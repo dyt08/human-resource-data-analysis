{
 "cells": [
  {
   "cell_type": "markdown",
   "metadata": {
    "id": "PdfT4XC03iYW"
   },
   "source": [
    "Aditya Nugraha | JCVLDS-05-27"
   ]
  },
  {
   "cell_type": "markdown",
   "metadata": {
    "id": "Y6b4hnLZ32RB"
   },
   "source": [
    "# Data Understanding"
   ]
  },
  {
   "cell_type": "markdown",
   "metadata": {
    "id": "XVO6dsBH35M_"
   },
   "source": [
    "## Context\n",
    "Tim HR atau Human Resource dari sebuah perusahaan e-commerce terkenal yang beroperasi di wilayah Amerika dan Eropa ingin mengetahui gambaran umum tentang kepegawaian di tempat perusahaannya bekerja. Terdapat sebuah database yang berisi detail karyawan berserta status kepegawaiannya. dari database tersebut, Tim HR ingin bisa mendapatkan gambaran bagaimana kondisi dari perusahaannya bekerja seperti banyaknya karyawan di setiap cabang, besaran dan kesesuaian gaji karyawan di setiap posisinya. \n\ndiharapkan dari hasil analisis ini dapat membantu menjawab pertanyaan-pertanyaan seperti apakah ada karyawan yang gajinya terlalu tinggi atau terlalu rendah dibanding karyawan lain di posisi yang sama, apakah pada cabang tertentu ada terlalu banyak karyawan, dan lain sebagainya. keputusan ini yang nantinya dapat digunakan untuk membantu tim HR untuk membuat keputusan strategis kedepannya terutama jika data hasil analisis ini digabungkan dengan data analisis lain yang dapat dihubungkan. keputusan bisnis yang diambil bisa berupa penundaan atau percepatan kenaikan gaji, pemindahan karyawan ke cabang lain, perekrutan karyawan, dan sebagainya.\n",
    "\n",
    "## Database Information\n",
    "Sumber Database: https://drive.google.com/file/d/1XfhOHYKzW7Cz1RNHlknJI6Lz7LLSi5EI/view?usp=sharing\n",
    "\n",
    "Database tersebut memiliki 7 tabel, yaitu:\n",
    "- employees: Berisi data karyawan yang ada\n",
    "- jobs: Berisi posisi pekerjaan beserta standar gaji minimal dan maximal yang telah ditetapkan pada masing-masing posisi\n",
    "- job_history: Berisi tanggal keluar-masuk karyawan beserta jabatannya\n",
    "- departments: Berisi detail departemen\n",
    "- locations: berisi detail lokasi dari departemen\n",
    "- countries: berisi detail negara dari lokasi departemen\n",
    "- regions: berisi detail wilayah dari lokasi departemen\n",
    "\n",
    "Setiap tabel yang tertera pada database dapat terhubung, baik secara langsung maupun tidak langsung, sehingga setiap informasi dari database ini akan dapat saling berkaitan.  \n",
    "\n",
    "Lalu berikut merupakan rancangan ERD dari database yang telah di sebutkan sebelumnya:\n",
    "\n",
    "![HR ERD](Datasets/HR/HR%20ERD.gif)"
   ]
  },
  {
   "cell_type": "markdown",
   "metadata": {},
   "source": [
    "### Import Module / Library"
   ]
  },
  {
   "cell_type": "code",
   "execution_count": 68,
   "metadata": {},
   "outputs": [],
   "source": [
    "import pandas as pd\n",
    "import numpy as np\n",
    "import mysql.connector as sqlcon\n",
    "\n",
    "import matplotlib.pyplot as plt\n",
    "import seaborn as sns\n",
    "%matplotlib inline\n",
    "\n",
    "import warnings\n",
    "warnings.filterwarnings('ignore', category=DeprecationWarning)"
   ]
  },
  {
   "cell_type": "markdown",
   "metadata": {
    "id": "sltqDmBr4iSe"
   },
   "source": [
    "## Database"
   ]
  },
  {
   "cell_type": "markdown",
   "metadata": {},
   "source": [
    "### Initialization Database Connection\n",
    "Bagian ini akan membuat koneksi ke database yang akan digunakan yang dalam analisis ini adalah database bernama ``human_resource``. Dengan melakukan koneksi ini, kita dapat mengakses seluruh tabel yang ada pada database, lalu menyimpannya ke dalam bentuk *DataFrame*"
   ]
  },
  {
   "cell_type": "code",
   "execution_count": 69,
   "metadata": {},
   "outputs": [],
   "source": [
    "# Making Connection to Target Database 'human_resource'\n",
    "db = sqlcon.connect(\n",
    "    host = 'localhost',\n",
    "    user = 'root',\n",
    "    passwd = 'root',\n",
    "    database = 'human_resource')"
   ]
  },
  {
   "cell_type": "code",
   "execution_count": 70,
   "metadata": {},
   "outputs": [],
   "source": [
    "# Query Function and Convert to DataFrame\n",
    "curs = db.cursor()\n",
    "def q(query) :\n",
    "    curs.execute (query)\n",
    "    result = curs.fetchall()\n",
    "    table = pd.DataFrame(result, columns=curs.column_names)\n",
    "    return table"
   ]
  },
  {
   "cell_type": "markdown",
   "metadata": {},
   "source": [
    "## Querying Database"
   ]
  },
  {
   "cell_type": "markdown",
   "metadata": {},
   "source": [
    "### Raw Data\n",
    "Bagian pertama ini merupakan pengambilan data mentah dari seluruh tabel yang di dasari berdasarkan data-data dari tabel kiri atau biasa disebut ``Left Join`` dengan tabel *Left*-nya adalah ``employees``. Masing-masing dari setiap tabel tersebut diambil semua kolomnya kecuali jika terdapat kolom yang sama. Informasi-informasi yang diambil akan di olah kembali menggunakan fungsi pandas dengan kolom yang diambil disesuaikan dengan yang dibutuhkan nanti. Informasi yang diambil antara lain:  \n",
    "- **employees:** employee_id, first_name, last_name, email, phone_number, hire_date, salary, commission_pct, job_id, department_id, manager_id\n",
    "- **jobs:** job_title, min_salary, max_salary\n",
    "- **job_history:** start_date, end_date\n",
    "- **departments:** department_name, location_id\n",
    "- **locations:** street_address, postal_code, city, state_province, country_id\n",
    "- **countries:** country_name, region_id\n",
    "- **regions:** region_name"
   ]
  },
  {
   "cell_type": "code",
   "execution_count": 71,
   "metadata": {},
   "outputs": [
    {
     "data": {
      "text/html": [
       "<div>\n",
       "<style scoped>\n",
       "    .dataframe tbody tr th:only-of-type {\n",
       "        vertical-align: middle;\n",
       "    }\n",
       "\n",
       "    .dataframe tbody tr th {\n",
       "        vertical-align: top;\n",
       "    }\n",
       "\n",
       "    .dataframe thead th {\n",
       "        text-align: right;\n",
       "    }\n",
       "</style>\n",
       "<table border=\"1\" class=\"dataframe\">\n",
       "  <thead>\n",
       "    <tr style=\"text-align: right;\">\n",
       "      <th></th>\n",
       "      <th>employee_id</th>\n",
       "      <th>first_name</th>\n",
       "      <th>last_name</th>\n",
       "      <th>email</th>\n",
       "      <th>phone_number</th>\n",
       "      <th>hire_date</th>\n",
       "      <th>salary</th>\n",
       "      <th>commission_pct</th>\n",
       "      <th>job_id</th>\n",
       "      <th>start_date</th>\n",
       "      <th>end_date</th>\n",
       "      <th>job_title</th>\n",
       "      <th>min_salary</th>\n",
       "      <th>max_salary</th>\n",
       "      <th>department_id</th>\n",
       "      <th>department_name</th>\n",
       "      <th>manager_id</th>\n",
       "      <th>street_address</th>\n",
       "      <th>postal_code</th>\n",
       "      <th>city</th>\n",
       "      <th>state_province</th>\n",
       "      <th>country_id</th>\n",
       "      <th>country_name</th>\n",
       "      <th>region_id</th>\n",
       "      <th>region_name</th>\n",
       "    </tr>\n",
       "  </thead>\n",
       "  <tbody>\n",
       "    <tr>\n",
       "      <th>13</th>\n",
       "      <td>112</td>\n",
       "      <td>Jose Manuel</td>\n",
       "      <td>Urman</td>\n",
       "      <td>JMURMAN</td>\n",
       "      <td>515.124.4469</td>\n",
       "      <td>1987-06-29</td>\n",
       "      <td>7800.00</td>\n",
       "      <td>0.00</td>\n",
       "      <td>FI_ACCOUNT</td>\n",
       "      <td>None</td>\n",
       "      <td>None</td>\n",
       "      <td>Accountant</td>\n",
       "      <td>4200</td>\n",
       "      <td>9000</td>\n",
       "      <td>100</td>\n",
       "      <td>Finance</td>\n",
       "      <td>108</td>\n",
       "      <td>1700</td>\n",
       "      <td>98199</td>\n",
       "      <td>Seattle</td>\n",
       "      <td>Washington</td>\n",
       "      <td>US</td>\n",
       "      <td>United States of America</td>\n",
       "      <td>2</td>\n",
       "      <td>Americas\\r</td>\n",
       "    </tr>\n",
       "    <tr>\n",
       "      <th>24</th>\n",
       "      <td>123</td>\n",
       "      <td>Shanta</td>\n",
       "      <td>Vollman</td>\n",
       "      <td>SVOLLMAN</td>\n",
       "      <td>650.123.4234</td>\n",
       "      <td>1987-07-10</td>\n",
       "      <td>6500.00</td>\n",
       "      <td>0.00</td>\n",
       "      <td>ST_MAN</td>\n",
       "      <td>None</td>\n",
       "      <td>None</td>\n",
       "      <td>Stock Manager</td>\n",
       "      <td>5500</td>\n",
       "      <td>8500</td>\n",
       "      <td>50</td>\n",
       "      <td>Shipping</td>\n",
       "      <td>100</td>\n",
       "      <td>1500</td>\n",
       "      <td>99236</td>\n",
       "      <td>South San Francisco</td>\n",
       "      <td>California</td>\n",
       "      <td>US</td>\n",
       "      <td>United States of America</td>\n",
       "      <td>2</td>\n",
       "      <td>Americas\\r</td>\n",
       "    </tr>\n",
       "    <tr>\n",
       "      <th>84</th>\n",
       "      <td>182</td>\n",
       "      <td>Martha</td>\n",
       "      <td>Sullivan</td>\n",
       "      <td>MSULLIVA</td>\n",
       "      <td>650.507.9878</td>\n",
       "      <td>1987-09-07</td>\n",
       "      <td>2500.00</td>\n",
       "      <td>0.00</td>\n",
       "      <td>SH_CLERK</td>\n",
       "      <td>None</td>\n",
       "      <td>None</td>\n",
       "      <td>Shipping Clerk</td>\n",
       "      <td>2500</td>\n",
       "      <td>5500</td>\n",
       "      <td>50</td>\n",
       "      <td>Shipping</td>\n",
       "      <td>120</td>\n",
       "      <td>1500</td>\n",
       "      <td>99236</td>\n",
       "      <td>South San Francisco</td>\n",
       "      <td>California</td>\n",
       "      <td>US</td>\n",
       "      <td>United States of America</td>\n",
       "      <td>2</td>\n",
       "      <td>Americas\\r</td>\n",
       "    </tr>\n",
       "    <tr>\n",
       "      <th>92</th>\n",
       "      <td>190</td>\n",
       "      <td>Timothy</td>\n",
       "      <td>Gates</td>\n",
       "      <td>TGATES</td>\n",
       "      <td>650.505.3876</td>\n",
       "      <td>1987-09-15</td>\n",
       "      <td>2900.00</td>\n",
       "      <td>0.00</td>\n",
       "      <td>SH_CLERK</td>\n",
       "      <td>None</td>\n",
       "      <td>None</td>\n",
       "      <td>Shipping Clerk</td>\n",
       "      <td>2500</td>\n",
       "      <td>5500</td>\n",
       "      <td>50</td>\n",
       "      <td>Shipping</td>\n",
       "      <td>122</td>\n",
       "      <td>1500</td>\n",
       "      <td>99236</td>\n",
       "      <td>South San Francisco</td>\n",
       "      <td>California</td>\n",
       "      <td>US</td>\n",
       "      <td>United States of America</td>\n",
       "      <td>2</td>\n",
       "      <td>Americas\\r</td>\n",
       "    </tr>\n",
       "    <tr>\n",
       "      <th>31</th>\n",
       "      <td>130</td>\n",
       "      <td>Mozhe</td>\n",
       "      <td>Atkinson</td>\n",
       "      <td>MATKINSO</td>\n",
       "      <td>650.124.6234</td>\n",
       "      <td>1987-07-17</td>\n",
       "      <td>2800.00</td>\n",
       "      <td>0.00</td>\n",
       "      <td>ST_CLERK</td>\n",
       "      <td>None</td>\n",
       "      <td>None</td>\n",
       "      <td>Stock Clerk</td>\n",
       "      <td>2000</td>\n",
       "      <td>5000</td>\n",
       "      <td>50</td>\n",
       "      <td>Shipping</td>\n",
       "      <td>121</td>\n",
       "      <td>1500</td>\n",
       "      <td>99236</td>\n",
       "      <td>South San Francisco</td>\n",
       "      <td>California</td>\n",
       "      <td>US</td>\n",
       "      <td>United States of America</td>\n",
       "      <td>2</td>\n",
       "      <td>Americas\\r</td>\n",
       "    </tr>\n",
       "  </tbody>\n",
       "</table>\n",
       "</div>"
      ],
      "text/plain": [
       "   employee_id   first_name last_name     email  phone_number   hire_date  \\\n",
       "13         112  Jose Manuel     Urman   JMURMAN  515.124.4469  1987-06-29   \n",
       "24         123       Shanta   Vollman  SVOLLMAN  650.123.4234  1987-07-10   \n",
       "84         182       Martha  Sullivan  MSULLIVA  650.507.9878  1987-09-07   \n",
       "92         190      Timothy     Gates    TGATES  650.505.3876  1987-09-15   \n",
       "31         130        Mozhe  Atkinson  MATKINSO  650.124.6234  1987-07-17   \n",
       "\n",
       "     salary commission_pct      job_id start_date end_date       job_title  \\\n",
       "13  7800.00           0.00  FI_ACCOUNT       None     None      Accountant   \n",
       "24  6500.00           0.00      ST_MAN       None     None   Stock Manager   \n",
       "84  2500.00           0.00    SH_CLERK       None     None  Shipping Clerk   \n",
       "92  2900.00           0.00    SH_CLERK       None     None  Shipping Clerk   \n",
       "31  2800.00           0.00    ST_CLERK       None     None     Stock Clerk   \n",
       "\n",
       "   min_salary max_salary department_id department_name manager_id  \\\n",
       "13       4200       9000           100         Finance        108   \n",
       "24       5500       8500            50        Shipping        100   \n",
       "84       2500       5500            50        Shipping        120   \n",
       "92       2500       5500            50        Shipping        122   \n",
       "31       2000       5000            50        Shipping        121   \n",
       "\n",
       "   street_address postal_code                 city state_province country_id  \\\n",
       "13           1700       98199              Seattle     Washington         US   \n",
       "24           1500       99236  South San Francisco     California         US   \n",
       "84           1500       99236  South San Francisco     California         US   \n",
       "92           1500       99236  South San Francisco     California         US   \n",
       "31           1500       99236  South San Francisco     California         US   \n",
       "\n",
       "                country_name region_id region_name  \n",
       "13  United States of America         2  Americas\\r  \n",
       "24  United States of America         2  Americas\\r  \n",
       "84  United States of America         2  Americas\\r  \n",
       "92  United States of America         2  Americas\\r  \n",
       "31  United States of America         2  Americas\\r  "
      ]
     },
     "execution_count": 71,
     "metadata": {},
     "output_type": "execute_result"
    }
   ],
   "source": [
    "raw_data = q('''\n",
    "SELECT employees.employee_id, first_name, last_name, email,\n",
    "\t\tphone_number, hire_date, salary, commission_pct, \n",
    "        employees.job_id, start_date, end_date, job_title,\n",
    "        min_salary, max_salary, employees.department_id,\n",
    "        department_name, employees.manager_id, departments.location_id\n",
    "        street_address, postal_code, city, state_province, \n",
    "        locations.country_id, country_name, countries.region_id,\n",
    "        region_name\n",
    "FROM employees\n",
    "LEFT JOIN departments\n",
    "\tON employees.department_id = departments.department_id\n",
    "LEFT JOIN job_history\n",
    "\tON employees.employee_id = job_history.employee_id\n",
    "LEFT JOIN jobs\n",
    "\tON employees.job_id = jobs.job_id\n",
    "LEFT JOIN locations\n",
    "\tON departments.location_id = locations.location_id\n",
    "LEFT JOIN countries\n",
    "\tON locations.country_id = countries.country_id\n",
    "LEFT JOIN regions\n",
    "\tON countries.region_id = regions.region_id;\n",
    "''')\n",
    "pd.set_option('display.max_columns', None) # mentiadakan jumlah kolom yang ditampilkan\n",
    "raw_data.sample(5)\n"
   ]
  },
  {
   "cell_type": "code",
   "execution_count": 72,
   "metadata": {},
   "outputs": [
    {
     "data": {
      "text/plain": [
       "(110, 25)"
      ]
     },
     "execution_count": 72,
     "metadata": {},
     "output_type": "execute_result"
    }
   ],
   "source": [
    "raw_data.shape"
   ]
  },
  {
   "cell_type": "markdown",
   "metadata": {},
   "source": [
    "### Job Grades\n",
    "Bagian ini menentukan tingkatan antara jabatan berdasarkan nilai gaji yang dibayarkannya. Job grading disini menggunakan metode ranking berdasarkan range gaji pekerjaan yang ditetapkan, dan range gaji dari karyawan yang ada. semakin tinggi gajinya, maka semakin tinggi juga job gradenya. Berikut merupakan fitur dan keterangan dari tabel ini:\n",
    "\n",
    "\n",
    "|Fitur     |Keterangan|\n",
    "|----------|----------|\n",
    "|job_id|id jabatan|\n",
    "|job_title|nama jabatan|\n",
    "|min_salary|gaji minimal yang telah ditetapkan pekerjaan tersebut|\n",
    "|max_salary|gaji maksimal yang telah ditetapkan pekerjaan tersebut|\n",
    "|avg_salary|rata-rata gaji berdasarkan min_salary dan max_salary|\n",
    "|grade_level|tinggakatan jabatan berdasarkan avg_salary|\n",
    "|current_min_salary|gaji minimal pada karyawan saat ini|\n",
    "|current_max_salary|gaji maksimal pada karyawan saat ini|\n",
    "|current_avg_salary|rata-rata gaji berdasarkan current_min_salary dan current_max_salary|\n",
    "|salary_count|banyaknya karyawan pada masing-masing jabatan|\n",
    "|grade_level_by_current|tinggakatan jabatan berdasarkan current_avg_salary|\n",
    "\n",
    "pada kueri ini saya menggunakan `CTE` bernama job_grades dengan beberapa `Window Function` baik `aggregate` seperti `MAX`, `MIN`, `AVG`, dan `non-aggregate` seperti `DENSE_RANK`, `ROW_NUMBER` lengkap dengan fungsi `OVER` dan `PARTITION`"
   ]
  },
  {
   "cell_type": "code",
   "execution_count": 73,
   "metadata": {},
   "outputs": [
    {
     "data": {
      "text/html": [
       "<div>\n",
       "<style scoped>\n",
       "    .dataframe tbody tr th:only-of-type {\n",
       "        vertical-align: middle;\n",
       "    }\n",
       "\n",
       "    .dataframe tbody tr th {\n",
       "        vertical-align: top;\n",
       "    }\n",
       "\n",
       "    .dataframe thead th {\n",
       "        text-align: right;\n",
       "    }\n",
       "</style>\n",
       "<table border=\"1\" class=\"dataframe\">\n",
       "  <thead>\n",
       "    <tr style=\"text-align: right;\">\n",
       "      <th></th>\n",
       "      <th>job_id</th>\n",
       "      <th>job_title</th>\n",
       "      <th>min_salary</th>\n",
       "      <th>max_salary</th>\n",
       "      <th>avg_salary</th>\n",
       "      <th>grade_level</th>\n",
       "      <th>current_min_salary</th>\n",
       "      <th>current_max_salary</th>\n",
       "      <th>current_avg_salary</th>\n",
       "      <th>salary_count</th>\n",
       "      <th>grade_level_by_current</th>\n",
       "    </tr>\n",
       "  </thead>\n",
       "  <tbody>\n",
       "    <tr>\n",
       "      <th>0</th>\n",
       "      <td>AD_PRES</td>\n",
       "      <td>President</td>\n",
       "      <td>20000</td>\n",
       "      <td>40000</td>\n",
       "      <td>30000.0000</td>\n",
       "      <td>14</td>\n",
       "      <td>24000.00</td>\n",
       "      <td>24000.00</td>\n",
       "      <td>24000.000000</td>\n",
       "      <td>1</td>\n",
       "      <td>18</td>\n",
       "    </tr>\n",
       "    <tr>\n",
       "      <th>1</th>\n",
       "      <td>AD_VP</td>\n",
       "      <td>Administration Vice President</td>\n",
       "      <td>15000</td>\n",
       "      <td>30000</td>\n",
       "      <td>22500.0000</td>\n",
       "      <td>13</td>\n",
       "      <td>17000.00</td>\n",
       "      <td>17000.00</td>\n",
       "      <td>17000.000000</td>\n",
       "      <td>2</td>\n",
       "      <td>17</td>\n",
       "    </tr>\n",
       "    <tr>\n",
       "      <th>2</th>\n",
       "      <td>SA_MAN</td>\n",
       "      <td>Sales Manager</td>\n",
       "      <td>10000</td>\n",
       "      <td>20000</td>\n",
       "      <td>15000.0000</td>\n",
       "      <td>12</td>\n",
       "      <td>10500.00</td>\n",
       "      <td>14000.00</td>\n",
       "      <td>12200.000000</td>\n",
       "      <td>5</td>\n",
       "      <td>15</td>\n",
       "    </tr>\n",
       "    <tr>\n",
       "      <th>3</th>\n",
       "      <td>MK_MAN</td>\n",
       "      <td>Marketing Manager</td>\n",
       "      <td>9000</td>\n",
       "      <td>15000</td>\n",
       "      <td>12000.0000</td>\n",
       "      <td>10</td>\n",
       "      <td>13000.00</td>\n",
       "      <td>13000.00</td>\n",
       "      <td>13000.000000</td>\n",
       "      <td>1</td>\n",
       "      <td>16</td>\n",
       "    </tr>\n",
       "    <tr>\n",
       "      <th>4</th>\n",
       "      <td>AC_MGR</td>\n",
       "      <td>Accounting Manager</td>\n",
       "      <td>8200</td>\n",
       "      <td>16000</td>\n",
       "      <td>12100.0000</td>\n",
       "      <td>11</td>\n",
       "      <td>12000.00</td>\n",
       "      <td>12000.00</td>\n",
       "      <td>12000.000000</td>\n",
       "      <td>1</td>\n",
       "      <td>14</td>\n",
       "    </tr>\n",
       "    <tr>\n",
       "      <th>5</th>\n",
       "      <td>FI_MGR</td>\n",
       "      <td>Finance Manager</td>\n",
       "      <td>8200</td>\n",
       "      <td>16000</td>\n",
       "      <td>12100.0000</td>\n",
       "      <td>11</td>\n",
       "      <td>12000.00</td>\n",
       "      <td>12000.00</td>\n",
       "      <td>12000.000000</td>\n",
       "      <td>1</td>\n",
       "      <td>14</td>\n",
       "    </tr>\n",
       "    <tr>\n",
       "      <th>6</th>\n",
       "      <td>PU_MAN</td>\n",
       "      <td>Purchasing Manager</td>\n",
       "      <td>8000</td>\n",
       "      <td>15000</td>\n",
       "      <td>11500.0000</td>\n",
       "      <td>9</td>\n",
       "      <td>11000.00</td>\n",
       "      <td>11000.00</td>\n",
       "      <td>11000.000000</td>\n",
       "      <td>1</td>\n",
       "      <td>13</td>\n",
       "    </tr>\n",
       "    <tr>\n",
       "      <th>7</th>\n",
       "      <td>PR_REP</td>\n",
       "      <td>Public Relations Representative</td>\n",
       "      <td>4500</td>\n",
       "      <td>10500</td>\n",
       "      <td>7500.0000</td>\n",
       "      <td>7</td>\n",
       "      <td>10000.00</td>\n",
       "      <td>10000.00</td>\n",
       "      <td>10000.000000</td>\n",
       "      <td>1</td>\n",
       "      <td>12</td>\n",
       "    </tr>\n",
       "    <tr>\n",
       "      <th>8</th>\n",
       "      <td>SA_REP</td>\n",
       "      <td>Sales Representative</td>\n",
       "      <td>6000</td>\n",
       "      <td>12000</td>\n",
       "      <td>9000.0000</td>\n",
       "      <td>8</td>\n",
       "      <td>6100.00</td>\n",
       "      <td>11500.00</td>\n",
       "      <td>8350.000000</td>\n",
       "      <td>30</td>\n",
       "      <td>11</td>\n",
       "    </tr>\n",
       "    <tr>\n",
       "      <th>9</th>\n",
       "      <td>AC_ACCOUNT</td>\n",
       "      <td>Public Accountant</td>\n",
       "      <td>4200</td>\n",
       "      <td>9000</td>\n",
       "      <td>6600.0000</td>\n",
       "      <td>5</td>\n",
       "      <td>8300.00</td>\n",
       "      <td>8300.00</td>\n",
       "      <td>8300.000000</td>\n",
       "      <td>1</td>\n",
       "      <td>10</td>\n",
       "    </tr>\n",
       "    <tr>\n",
       "      <th>10</th>\n",
       "      <td>FI_ACCOUNT</td>\n",
       "      <td>Accountant</td>\n",
       "      <td>4200</td>\n",
       "      <td>9000</td>\n",
       "      <td>6600.0000</td>\n",
       "      <td>5</td>\n",
       "      <td>6900.00</td>\n",
       "      <td>9000.00</td>\n",
       "      <td>7920.000000</td>\n",
       "      <td>5</td>\n",
       "      <td>9</td>\n",
       "    </tr>\n",
       "    <tr>\n",
       "      <th>11</th>\n",
       "      <td>ST_MAN</td>\n",
       "      <td>Stock Manager</td>\n",
       "      <td>5500</td>\n",
       "      <td>8500</td>\n",
       "      <td>7000.0000</td>\n",
       "      <td>6</td>\n",
       "      <td>5800.00</td>\n",
       "      <td>8200.00</td>\n",
       "      <td>7280.000000</td>\n",
       "      <td>5</td>\n",
       "      <td>8</td>\n",
       "    </tr>\n",
       "    <tr>\n",
       "      <th>12</th>\n",
       "      <td>HR_REP</td>\n",
       "      <td>Human Resources Representative</td>\n",
       "      <td>4000</td>\n",
       "      <td>9000</td>\n",
       "      <td>6500.0000</td>\n",
       "      <td>4</td>\n",
       "      <td>6500.00</td>\n",
       "      <td>6500.00</td>\n",
       "      <td>6500.000000</td>\n",
       "      <td>1</td>\n",
       "      <td>7</td>\n",
       "    </tr>\n",
       "    <tr>\n",
       "      <th>13</th>\n",
       "      <td>IT_PROG</td>\n",
       "      <td>Programmer</td>\n",
       "      <td>4000</td>\n",
       "      <td>10000</td>\n",
       "      <td>7000.0000</td>\n",
       "      <td>6</td>\n",
       "      <td>4200.00</td>\n",
       "      <td>9000.00</td>\n",
       "      <td>5760.000000</td>\n",
       "      <td>5</td>\n",
       "      <td>5</td>\n",
       "    </tr>\n",
       "    <tr>\n",
       "      <th>14</th>\n",
       "      <td>MK_REP</td>\n",
       "      <td>Marketing Representative</td>\n",
       "      <td>4000</td>\n",
       "      <td>9000</td>\n",
       "      <td>6500.0000</td>\n",
       "      <td>4</td>\n",
       "      <td>6000.00</td>\n",
       "      <td>6000.00</td>\n",
       "      <td>6000.000000</td>\n",
       "      <td>1</td>\n",
       "      <td>6</td>\n",
       "    </tr>\n",
       "    <tr>\n",
       "      <th>15</th>\n",
       "      <td>AD_ASST</td>\n",
       "      <td>Administration Assistant</td>\n",
       "      <td>3000</td>\n",
       "      <td>6000</td>\n",
       "      <td>4500.0000</td>\n",
       "      <td>3</td>\n",
       "      <td>4400.00</td>\n",
       "      <td>4400.00</td>\n",
       "      <td>4400.000000</td>\n",
       "      <td>1</td>\n",
       "      <td>4</td>\n",
       "    </tr>\n",
       "    <tr>\n",
       "      <th>16</th>\n",
       "      <td>SH_CLERK</td>\n",
       "      <td>Shipping Clerk</td>\n",
       "      <td>2500</td>\n",
       "      <td>5500</td>\n",
       "      <td>4000.0000</td>\n",
       "      <td>2</td>\n",
       "      <td>2500.00</td>\n",
       "      <td>4200.00</td>\n",
       "      <td>3215.000000</td>\n",
       "      <td>20</td>\n",
       "      <td>3</td>\n",
       "    </tr>\n",
       "    <tr>\n",
       "      <th>17</th>\n",
       "      <td>PU_CLERK</td>\n",
       "      <td>Purchasing Clerk</td>\n",
       "      <td>2500</td>\n",
       "      <td>5500</td>\n",
       "      <td>4000.0000</td>\n",
       "      <td>2</td>\n",
       "      <td>2500.00</td>\n",
       "      <td>3100.00</td>\n",
       "      <td>2780.000000</td>\n",
       "      <td>5</td>\n",
       "      <td>1</td>\n",
       "    </tr>\n",
       "    <tr>\n",
       "      <th>18</th>\n",
       "      <td>ST_CLERK</td>\n",
       "      <td>Stock Clerk</td>\n",
       "      <td>2000</td>\n",
       "      <td>5000</td>\n",
       "      <td>3500.0000</td>\n",
       "      <td>1</td>\n",
       "      <td>2100.00</td>\n",
       "      <td>3600.00</td>\n",
       "      <td>2785.000000</td>\n",
       "      <td>20</td>\n",
       "      <td>2</td>\n",
       "    </tr>\n",
       "  </tbody>\n",
       "</table>\n",
       "</div>"
      ],
      "text/plain": [
       "        job_id                        job_title min_salary max_salary  \\\n",
       "0      AD_PRES                        President      20000      40000   \n",
       "1        AD_VP    Administration Vice President      15000      30000   \n",
       "2       SA_MAN                    Sales Manager      10000      20000   \n",
       "3       MK_MAN                Marketing Manager       9000      15000   \n",
       "4       AC_MGR               Accounting Manager       8200      16000   \n",
       "5       FI_MGR                  Finance Manager       8200      16000   \n",
       "6       PU_MAN               Purchasing Manager       8000      15000   \n",
       "7       PR_REP  Public Relations Representative       4500      10500   \n",
       "8       SA_REP             Sales Representative       6000      12000   \n",
       "9   AC_ACCOUNT                Public Accountant       4200       9000   \n",
       "10  FI_ACCOUNT                       Accountant       4200       9000   \n",
       "11      ST_MAN                    Stock Manager       5500       8500   \n",
       "12      HR_REP   Human Resources Representative       4000       9000   \n",
       "13     IT_PROG                       Programmer       4000      10000   \n",
       "14      MK_REP         Marketing Representative       4000       9000   \n",
       "15     AD_ASST         Administration Assistant       3000       6000   \n",
       "16    SH_CLERK                   Shipping Clerk       2500       5500   \n",
       "17    PU_CLERK                 Purchasing Clerk       2500       5500   \n",
       "18    ST_CLERK                      Stock Clerk       2000       5000   \n",
       "\n",
       "    avg_salary  grade_level current_min_salary current_max_salary  \\\n",
       "0   30000.0000           14           24000.00           24000.00   \n",
       "1   22500.0000           13           17000.00           17000.00   \n",
       "2   15000.0000           12           10500.00           14000.00   \n",
       "3   12000.0000           10           13000.00           13000.00   \n",
       "4   12100.0000           11           12000.00           12000.00   \n",
       "5   12100.0000           11           12000.00           12000.00   \n",
       "6   11500.0000            9           11000.00           11000.00   \n",
       "7    7500.0000            7           10000.00           10000.00   \n",
       "8    9000.0000            8            6100.00           11500.00   \n",
       "9    6600.0000            5            8300.00            8300.00   \n",
       "10   6600.0000            5            6900.00            9000.00   \n",
       "11   7000.0000            6            5800.00            8200.00   \n",
       "12   6500.0000            4            6500.00            6500.00   \n",
       "13   7000.0000            6            4200.00            9000.00   \n",
       "14   6500.0000            4            6000.00            6000.00   \n",
       "15   4500.0000            3            4400.00            4400.00   \n",
       "16   4000.0000            2            2500.00            4200.00   \n",
       "17   4000.0000            2            2500.00            3100.00   \n",
       "18   3500.0000            1            2100.00            3600.00   \n",
       "\n",
       "   current_avg_salary  salary_count  grade_level_by_current  \n",
       "0        24000.000000             1                      18  \n",
       "1        17000.000000             2                      17  \n",
       "2        12200.000000             5                      15  \n",
       "3        13000.000000             1                      16  \n",
       "4        12000.000000             1                      14  \n",
       "5        12000.000000             1                      14  \n",
       "6        11000.000000             1                      13  \n",
       "7        10000.000000             1                      12  \n",
       "8         8350.000000            30                      11  \n",
       "9         8300.000000             1                      10  \n",
       "10        7920.000000             5                       9  \n",
       "11        7280.000000             5                       8  \n",
       "12        6500.000000             1                       7  \n",
       "13        5760.000000             5                       5  \n",
       "14        6000.000000             1                       6  \n",
       "15        4400.000000             1                       4  \n",
       "16        3215.000000            20                       3  \n",
       "17        2780.000000             5                       1  \n",
       "18        2785.000000            20                       2  "
      ]
     },
     "execution_count": 73,
     "metadata": {},
     "output_type": "execute_result"
    }
   ],
   "source": [
    "job_grades = q(\n",
    "'''\n",
    "WITH job_grades AS(\n",
    "\tSELECT employees.job_id, jobs.job_title, jobs.min_salary, jobs.max_salary, (min_salary+max_salary)/2 avg_salary,MIN(salary) OVER(PARTITION BY job_id) current_min_salary, \n",
    "\t\t\tMAX(salary) OVER(PARTITION BY job_id) current_max_salary, AVG(salary) OVER(PARTITION BY job_id) current_avg_salary, \n",
    "            COUNT(salary) OVER(PARTITION BY job_id) salary_count\n",
    "\tFROM employees\n",
    "    LEFT JOIN jobs\n",
    "\t\tON employees.job_id = jobs.job_id\n",
    ")\n",
    "\n",
    "SELECT job_id, job_title, min_salary, max_salary, avg_salary, \n",
    "\t\tDENSE_RANK() OVER(ORDER BY avg_salary) grade_level, \n",
    "\t\tcurrent_min_salary, current_max_salary, current_avg_salary, salary_count, \n",
    "\t\tDENSE_RANK() OVER(ORDER BY current_avg_salary) grade_level_by_current\n",
    "FROM(SELECT *, ROW_NUMBER() OVER(PARTITION BY job_title) duplicate \n",
    "FROM job_grades) t0\n",
    "WHERE duplicate=1\n",
    "ORDER BY (avg_salary+current_avg_salary)/2 DESC;\n",
    "'''\n",
    ")\n",
    "job_grades"
   ]
  },
  {
   "cell_type": "code",
   "execution_count": 42,
   "metadata": {},
   "outputs": [
    {
     "data": {
      "text/plain": [
       "(19, 11)"
      ]
     },
     "execution_count": 42,
     "metadata": {},
     "output_type": "execute_result"
    }
   ],
   "source": [
    "job_grades.shape"
   ]
  },
  {
   "cell_type": "markdown",
   "metadata": {},
   "source": [
    "# Data Manipulation"
   ]
  },
  {
   "cell_type": "markdown",
   "metadata": {},
   "source": [
    "Sepertinya yang dijelaskan sebelumnya `raw_data` merupakan data mentah yang nantinya akan secara mandiri diambil fitur/kolom yang diperlukan saja pada proses visualisasi dan statistik. namun sebelum melakukan hal tersebut, harus dilakukan pengecekan informasi serta anomali pada data. Jika memang terdapat hal-hal yang dianggap 'kotor' pada data, maka yang perlu dilakukan adalah melakukan penanganan pada bagian tersebut. Pada bagian ini, data akan 'dibersihkan', sehingga ketika fitur tersebut dipanggil maka diharapkan data tersebut sudah bersih dan siap di analisis lebih lanjut. tabel `job_grades` juga akan dilakukan proses manipulasi di sini."
   ]
  },
  {
   "cell_type": "markdown",
   "metadata": {},
   "source": [
    "## Raw Data"
   ]
  },
  {
   "cell_type": "markdown",
   "metadata": {},
   "source": [
    "### Data Anomalies"
   ]
  },
  {
   "cell_type": "code",
   "execution_count": 74,
   "metadata": {},
   "outputs": [
    {
     "data": {
      "text/html": [
       "<div>\n",
       "<style scoped>\n",
       "    .dataframe tbody tr th:only-of-type {\n",
       "        vertical-align: middle;\n",
       "    }\n",
       "\n",
       "    .dataframe tbody tr th {\n",
       "        vertical-align: top;\n",
       "    }\n",
       "\n",
       "    .dataframe thead th {\n",
       "        text-align: right;\n",
       "    }\n",
       "</style>\n",
       "<table border=\"1\" class=\"dataframe\">\n",
       "  <thead>\n",
       "    <tr style=\"text-align: right;\">\n",
       "      <th></th>\n",
       "      <th>Column Name</th>\n",
       "      <th>Data Type</th>\n",
       "      <th>Data Count</th>\n",
       "      <th>Missing Value</th>\n",
       "      <th>Missing Value Percentage</th>\n",
       "      <th>Number of Unique</th>\n",
       "      <th>Unique Sample</th>\n",
       "    </tr>\n",
       "  </thead>\n",
       "  <tbody>\n",
       "    <tr>\n",
       "      <th>0</th>\n",
       "      <td>employee_id</td>\n",
       "      <td>object</td>\n",
       "      <td>110</td>\n",
       "      <td>0</td>\n",
       "      <td>0.00</td>\n",
       "      <td>107</td>\n",
       "      <td>[177, 116]</td>\n",
       "    </tr>\n",
       "    <tr>\n",
       "      <th>1</th>\n",
       "      <td>first_name</td>\n",
       "      <td>object</td>\n",
       "      <td>110</td>\n",
       "      <td>0</td>\n",
       "      <td>0.00</td>\n",
       "      <td>91</td>\n",
       "      <td>[TJ, Oliver]</td>\n",
       "    </tr>\n",
       "    <tr>\n",
       "      <th>2</th>\n",
       "      <td>last_name</td>\n",
       "      <td>object</td>\n",
       "      <td>110</td>\n",
       "      <td>0</td>\n",
       "      <td>0.00</td>\n",
       "      <td>102</td>\n",
       "      <td>[Hall, Fleaur]</td>\n",
       "    </tr>\n",
       "    <tr>\n",
       "      <th>3</th>\n",
       "      <td>email</td>\n",
       "      <td>object</td>\n",
       "      <td>110</td>\n",
       "      <td>0</td>\n",
       "      <td>0.00</td>\n",
       "      <td>107</td>\n",
       "      <td>[HBAER, AERRAZUR]</td>\n",
       "    </tr>\n",
       "    <tr>\n",
       "      <th>4</th>\n",
       "      <td>phone_number</td>\n",
       "      <td>object</td>\n",
       "      <td>110</td>\n",
       "      <td>0</td>\n",
       "      <td>0.00</td>\n",
       "      <td>107</td>\n",
       "      <td>[650.124.1334, 603.123.6666]</td>\n",
       "    </tr>\n",
       "    <tr>\n",
       "      <th>5</th>\n",
       "      <td>hire_date</td>\n",
       "      <td>object</td>\n",
       "      <td>110</td>\n",
       "      <td>0</td>\n",
       "      <td>0.00</td>\n",
       "      <td>107</td>\n",
       "      <td>[1987-08-07, 1987-09-13]</td>\n",
       "    </tr>\n",
       "    <tr>\n",
       "      <th>6</th>\n",
       "      <td>salary</td>\n",
       "      <td>object</td>\n",
       "      <td>110</td>\n",
       "      <td>0</td>\n",
       "      <td>0.00</td>\n",
       "      <td>57</td>\n",
       "      <td>[13500.00, 2600.00]</td>\n",
       "    </tr>\n",
       "    <tr>\n",
       "      <th>7</th>\n",
       "      <td>commission_pct</td>\n",
       "      <td>object</td>\n",
       "      <td>110</td>\n",
       "      <td>0</td>\n",
       "      <td>0.00</td>\n",
       "      <td>8</td>\n",
       "      <td>[0.35, 0.10]</td>\n",
       "    </tr>\n",
       "    <tr>\n",
       "      <th>8</th>\n",
       "      <td>job_id</td>\n",
       "      <td>object</td>\n",
       "      <td>110</td>\n",
       "      <td>0</td>\n",
       "      <td>0.00</td>\n",
       "      <td>19</td>\n",
       "      <td>[SA_REP, PU_MAN]</td>\n",
       "    </tr>\n",
       "    <tr>\n",
       "      <th>9</th>\n",
       "      <td>start_date</td>\n",
       "      <td>object</td>\n",
       "      <td>110</td>\n",
       "      <td>100</td>\n",
       "      <td>90.91</td>\n",
       "      <td>8</td>\n",
       "      <td>[1998-03-24, 1993-01-13]</td>\n",
       "    </tr>\n",
       "    <tr>\n",
       "      <th>10</th>\n",
       "      <td>end_date</td>\n",
       "      <td>object</td>\n",
       "      <td>110</td>\n",
       "      <td>100</td>\n",
       "      <td>90.91</td>\n",
       "      <td>7</td>\n",
       "      <td>[1997-03-15, 1998-07-24]</td>\n",
       "    </tr>\n",
       "    <tr>\n",
       "      <th>11</th>\n",
       "      <td>job_title</td>\n",
       "      <td>object</td>\n",
       "      <td>110</td>\n",
       "      <td>0</td>\n",
       "      <td>0.00</td>\n",
       "      <td>19</td>\n",
       "      <td>[Sales Manager, Human Resources Representative]</td>\n",
       "    </tr>\n",
       "    <tr>\n",
       "      <th>12</th>\n",
       "      <td>min_salary</td>\n",
       "      <td>object</td>\n",
       "      <td>110</td>\n",
       "      <td>0</td>\n",
       "      <td>0.00</td>\n",
       "      <td>14</td>\n",
       "      <td>[15000, 20000]</td>\n",
       "    </tr>\n",
       "    <tr>\n",
       "      <th>13</th>\n",
       "      <td>max_salary</td>\n",
       "      <td>object</td>\n",
       "      <td>110</td>\n",
       "      <td>0</td>\n",
       "      <td>0.00</td>\n",
       "      <td>13</td>\n",
       "      <td>[16000, 5500]</td>\n",
       "    </tr>\n",
       "    <tr>\n",
       "      <th>14</th>\n",
       "      <td>department_id</td>\n",
       "      <td>object</td>\n",
       "      <td>110</td>\n",
       "      <td>0</td>\n",
       "      <td>0.00</td>\n",
       "      <td>12</td>\n",
       "      <td>[100, 0]</td>\n",
       "    </tr>\n",
       "    <tr>\n",
       "      <th>15</th>\n",
       "      <td>department_name</td>\n",
       "      <td>object</td>\n",
       "      <td>110</td>\n",
       "      <td>1</td>\n",
       "      <td>0.91</td>\n",
       "      <td>11</td>\n",
       "      <td>[None, Purchasing]</td>\n",
       "    </tr>\n",
       "    <tr>\n",
       "      <th>16</th>\n",
       "      <td>manager_id</td>\n",
       "      <td>object</td>\n",
       "      <td>110</td>\n",
       "      <td>0</td>\n",
       "      <td>0.00</td>\n",
       "      <td>19</td>\n",
       "      <td>[0, 103]</td>\n",
       "    </tr>\n",
       "    <tr>\n",
       "      <th>17</th>\n",
       "      <td>street_address</td>\n",
       "      <td>object</td>\n",
       "      <td>110</td>\n",
       "      <td>1</td>\n",
       "      <td>0.91</td>\n",
       "      <td>7</td>\n",
       "      <td>[2400, 1400]</td>\n",
       "    </tr>\n",
       "    <tr>\n",
       "      <th>18</th>\n",
       "      <td>postal_code</td>\n",
       "      <td>object</td>\n",
       "      <td>110</td>\n",
       "      <td>1</td>\n",
       "      <td>0.91</td>\n",
       "      <td>7</td>\n",
       "      <td>[ The Oxford , 99236]</td>\n",
       "    </tr>\n",
       "    <tr>\n",
       "      <th>19</th>\n",
       "      <td>city</td>\n",
       "      <td>object</td>\n",
       "      <td>110</td>\n",
       "      <td>1</td>\n",
       "      <td>0.91</td>\n",
       "      <td>7</td>\n",
       "      <td>[Toronto, Southlake]</td>\n",
       "    </tr>\n",
       "    <tr>\n",
       "      <th>20</th>\n",
       "      <td>state_province</td>\n",
       "      <td>object</td>\n",
       "      <td>110</td>\n",
       "      <td>1</td>\n",
       "      <td>0.91</td>\n",
       "      <td>7</td>\n",
       "      <td>[Washington, ]</td>\n",
       "    </tr>\n",
       "    <tr>\n",
       "      <th>21</th>\n",
       "      <td>country_id</td>\n",
       "      <td>object</td>\n",
       "      <td>110</td>\n",
       "      <td>1</td>\n",
       "      <td>0.91</td>\n",
       "      <td>5</td>\n",
       "      <td>[Ox, UK]</td>\n",
       "    </tr>\n",
       "    <tr>\n",
       "      <th>22</th>\n",
       "      <td>country_name</td>\n",
       "      <td>object</td>\n",
       "      <td>110</td>\n",
       "      <td>36</td>\n",
       "      <td>32.73</td>\n",
       "      <td>4</td>\n",
       "      <td>[Germany, United States of America]</td>\n",
       "    </tr>\n",
       "    <tr>\n",
       "      <th>23</th>\n",
       "      <td>region_id</td>\n",
       "      <td>object</td>\n",
       "      <td>110</td>\n",
       "      <td>36</td>\n",
       "      <td>32.73</td>\n",
       "      <td>2</td>\n",
       "      <td>[1, 2]</td>\n",
       "    </tr>\n",
       "    <tr>\n",
       "      <th>24</th>\n",
       "      <td>region_name</td>\n",
       "      <td>object</td>\n",
       "      <td>110</td>\n",
       "      <td>36</td>\n",
       "      <td>32.73</td>\n",
       "      <td>2</td>\n",
       "      <td>[Europe\\r, Americas\\r]</td>\n",
       "    </tr>\n",
       "  </tbody>\n",
       "</table>\n",
       "</div>"
      ],
      "text/plain": [
       "        Column Name Data Type  Data Count  Missing Value  \\\n",
       "0       employee_id    object         110              0   \n",
       "1        first_name    object         110              0   \n",
       "2         last_name    object         110              0   \n",
       "3             email    object         110              0   \n",
       "4      phone_number    object         110              0   \n",
       "5         hire_date    object         110              0   \n",
       "6            salary    object         110              0   \n",
       "7    commission_pct    object         110              0   \n",
       "8            job_id    object         110              0   \n",
       "9        start_date    object         110            100   \n",
       "10         end_date    object         110            100   \n",
       "11        job_title    object         110              0   \n",
       "12       min_salary    object         110              0   \n",
       "13       max_salary    object         110              0   \n",
       "14    department_id    object         110              0   \n",
       "15  department_name    object         110              1   \n",
       "16       manager_id    object         110              0   \n",
       "17   street_address    object         110              1   \n",
       "18      postal_code    object         110              1   \n",
       "19             city    object         110              1   \n",
       "20   state_province    object         110              1   \n",
       "21       country_id    object         110              1   \n",
       "22     country_name    object         110             36   \n",
       "23        region_id    object         110             36   \n",
       "24      region_name    object         110             36   \n",
       "\n",
       "    Missing Value Percentage  Number of Unique  \\\n",
       "0                       0.00               107   \n",
       "1                       0.00                91   \n",
       "2                       0.00               102   \n",
       "3                       0.00               107   \n",
       "4                       0.00               107   \n",
       "5                       0.00               107   \n",
       "6                       0.00                57   \n",
       "7                       0.00                 8   \n",
       "8                       0.00                19   \n",
       "9                      90.91                 8   \n",
       "10                     90.91                 7   \n",
       "11                      0.00                19   \n",
       "12                      0.00                14   \n",
       "13                      0.00                13   \n",
       "14                      0.00                12   \n",
       "15                      0.91                11   \n",
       "16                      0.00                19   \n",
       "17                      0.91                 7   \n",
       "18                      0.91                 7   \n",
       "19                      0.91                 7   \n",
       "20                      0.91                 7   \n",
       "21                      0.91                 5   \n",
       "22                     32.73                 4   \n",
       "23                     32.73                 2   \n",
       "24                     32.73                 2   \n",
       "\n",
       "                                      Unique Sample  \n",
       "0                                        [177, 116]  \n",
       "1                                      [TJ, Oliver]  \n",
       "2                                    [Hall, Fleaur]  \n",
       "3                                 [HBAER, AERRAZUR]  \n",
       "4                      [650.124.1334, 603.123.6666]  \n",
       "5                          [1987-08-07, 1987-09-13]  \n",
       "6                               [13500.00, 2600.00]  \n",
       "7                                      [0.35, 0.10]  \n",
       "8                                  [SA_REP, PU_MAN]  \n",
       "9                          [1998-03-24, 1993-01-13]  \n",
       "10                         [1997-03-15, 1998-07-24]  \n",
       "11  [Sales Manager, Human Resources Representative]  \n",
       "12                                   [15000, 20000]  \n",
       "13                                    [16000, 5500]  \n",
       "14                                         [100, 0]  \n",
       "15                               [None, Purchasing]  \n",
       "16                                         [0, 103]  \n",
       "17                                     [2400, 1400]  \n",
       "18                            [ The Oxford , 99236]  \n",
       "19                             [Toronto, Southlake]  \n",
       "20                                   [Washington, ]  \n",
       "21                                         [Ox, UK]  \n",
       "22              [Germany, United States of America]  \n",
       "23                                           [1, 2]  \n",
       "24                           [Europe\\r, Americas\\r]  "
      ]
     },
     "execution_count": 74,
     "metadata": {},
     "output_type": "execute_result"
    }
   ],
   "source": [
    "listItem = []\n",
    "for col in raw_data.columns :\n",
    "    listItem.append([col, raw_data[col].dtype, len(raw_data),raw_data[col].isna().sum(), round((raw_data[col].isna().sum()/len(raw_data[col])) * 100,2),\n",
    "                    raw_data[col].nunique(), list(raw_data[col].drop_duplicates().sample(2).values)])\n",
    "\n",
    "tableInfo = pd.DataFrame(columns=['Column Name', 'Data Type', 'Data Count', 'Missing Value', \n",
    "    'Missing Value Percentage', 'Number of Unique', 'Unique Sample'],\n",
    "                     data=listItem)\n",
    "tableInfo"
   ]
  },
  {
   "cell_type": "markdown",
   "metadata": {},
   "source": [
    "Ditemukan terdapat beberapa fitur yang memiliki tipe data yang salah, maka akan kita ubah menjadi tipe data yang benar.  \n",
    "Masing-masing fitur yang memiliki tipe data salah yaitu:  \n",
    "- `hire_date`, `start_date`, `end_date` yang awalnya bertipe data `object` akan kita ubah menjadi tipe data `datetime`\n",
    "- `salary`, `commission_pct`, `min_salary`, `max_salary` yang awalnya bertipe data `object` akan kita ubah menjadi tipe data `numeric`"
   ]
  },
  {
   "cell_type": "code",
   "execution_count": 75,
   "metadata": {},
   "outputs": [
    {
     "name": "stdout",
     "output_type": "stream",
     "text": [
      "hire_date     datetime64[ns]\n",
      "start_date    datetime64[ns]\n",
      "end_date      datetime64[ns]\n",
      "dtype: object\n",
      "salary            float64\n",
      "commission_pct    float64\n",
      "min_salary        float64\n",
      "max_salary        float64\n",
      "dtype: object\n"
     ]
    }
   ],
   "source": [
    "raw_data[['hire_date', 'start_date', 'end_date']] = raw_data[['hire_date', 'start_date', 'end_date']].apply(pd.to_datetime)\n",
    "raw_data[['salary', 'commission_pct', 'min_salary', 'max_salary']] = raw_data[['salary', 'commission_pct', 'min_salary', 'max_salary']].apply(pd.to_numeric)\n",
    "\n",
    "print(raw_data[['hire_date', 'start_date', 'end_date']].dtypes)\n",
    "print(raw_data[['salary', 'commission_pct', 'min_salary', 'max_salary']].dtypes)"
   ]
  },
  {
   "cell_type": "markdown",
   "metadata": {},
   "source": [
    "### Missing Values"
   ]
  },
  {
   "cell_type": "code",
   "execution_count": 76,
   "metadata": {},
   "outputs": [
    {
     "data": {
      "text/plain": [
       "start_date         100\n",
       "end_date           100\n",
       "department_name      1\n",
       "street_address       1\n",
       "postal_code          1\n",
       "city                 1\n",
       "state_province       1\n",
       "country_id           1\n",
       "country_name        36\n",
       "region_id           36\n",
       "region_name         36\n",
       "dtype: int64"
      ]
     },
     "execution_count": 76,
     "metadata": {},
     "output_type": "execute_result"
    }
   ],
   "source": [
    "raw_data.isnull().sum()[raw_data.isnull().sum() > 0]"
   ]
  },
  {
   "cell_type": "markdown",
   "metadata": {},
   "source": [
    "Di ketahui terdapat 11 fitur yang memiliki missing value, semua fitur yang memiliki missing value akan di isi berdasarkan data fakta yang telah tersedia baik di dalam database ataupun data dari luar (mis: wikipedia). tetapi untuk fitur `start_date` dan `end_date` tidak akan di isi, karena merupakan data mutlak yang harus berisikan data yang sebenarnya."
   ]
  },
  {
   "cell_type": "code",
   "execution_count": 77,
   "metadata": {},
   "outputs": [
    {
     "data": {
      "text/html": [
       "<div>\n",
       "<style scoped>\n",
       "    .dataframe tbody tr th:only-of-type {\n",
       "        vertical-align: middle;\n",
       "    }\n",
       "\n",
       "    .dataframe tbody tr th {\n",
       "        vertical-align: top;\n",
       "    }\n",
       "\n",
       "    .dataframe thead th {\n",
       "        text-align: right;\n",
       "    }\n",
       "</style>\n",
       "<table border=\"1\" class=\"dataframe\">\n",
       "  <thead>\n",
       "    <tr style=\"text-align: right;\">\n",
       "      <th></th>\n",
       "      <th>employee_id</th>\n",
       "      <th>first_name</th>\n",
       "      <th>last_name</th>\n",
       "      <th>email</th>\n",
       "      <th>phone_number</th>\n",
       "      <th>hire_date</th>\n",
       "      <th>salary</th>\n",
       "      <th>commission_pct</th>\n",
       "      <th>job_id</th>\n",
       "      <th>start_date</th>\n",
       "      <th>end_date</th>\n",
       "      <th>job_title</th>\n",
       "      <th>min_salary</th>\n",
       "      <th>max_salary</th>\n",
       "      <th>department_id</th>\n",
       "      <th>department_name</th>\n",
       "      <th>manager_id</th>\n",
       "      <th>street_address</th>\n",
       "      <th>postal_code</th>\n",
       "      <th>city</th>\n",
       "      <th>state_province</th>\n",
       "      <th>country_id</th>\n",
       "      <th>country_name</th>\n",
       "      <th>region_id</th>\n",
       "      <th>region_name</th>\n",
       "    </tr>\n",
       "  </thead>\n",
       "  <tbody>\n",
       "    <tr>\n",
       "      <th>80</th>\n",
       "      <td>178</td>\n",
       "      <td>Kimberely</td>\n",
       "      <td>Grant</td>\n",
       "      <td>KGRANT</td>\n",
       "      <td>011.44.1644.429263</td>\n",
       "      <td>1987-09-03</td>\n",
       "      <td>7000.0</td>\n",
       "      <td>0.15</td>\n",
       "      <td>SA_REP</td>\n",
       "      <td>NaT</td>\n",
       "      <td>NaT</td>\n",
       "      <td>Sales Representative</td>\n",
       "      <td>6000.0</td>\n",
       "      <td>12000.0</td>\n",
       "      <td>0</td>\n",
       "      <td>None</td>\n",
       "      <td>149</td>\n",
       "      <td>None</td>\n",
       "      <td>None</td>\n",
       "      <td>None</td>\n",
       "      <td>None</td>\n",
       "      <td>None</td>\n",
       "      <td>None</td>\n",
       "      <td>None</td>\n",
       "      <td>None</td>\n",
       "    </tr>\n",
       "  </tbody>\n",
       "</table>\n",
       "</div>"
      ],
      "text/plain": [
       "   employee_id first_name last_name   email        phone_number  hire_date  \\\n",
       "80         178  Kimberely     Grant  KGRANT  011.44.1644.429263 1987-09-03   \n",
       "\n",
       "    salary  commission_pct  job_id start_date end_date             job_title  \\\n",
       "80  7000.0            0.15  SA_REP        NaT      NaT  Sales Representative   \n",
       "\n",
       "    min_salary  max_salary department_id department_name manager_id  \\\n",
       "80      6000.0     12000.0             0            None        149   \n",
       "\n",
       "   street_address postal_code  city state_province country_id country_name  \\\n",
       "80           None        None  None           None       None         None   \n",
       "\n",
       "   region_id region_name  \n",
       "80      None        None  "
      ]
     },
     "execution_count": 77,
     "metadata": {},
     "output_type": "execute_result"
    }
   ],
   "source": [
    "raw_data[raw_data['department_name'].isnull()]"
   ]
  },
  {
   "cell_type": "markdown",
   "metadata": {},
   "source": [
    "Terlihat pada tabel diatas bahwa ternyata missing value pada fitur `department_name`, `street_address`, `postal_code`, `city`, `state_province`, dan `country_id` berada pada baris yang sama, dan juga ditemukan terdapat anomali pada `department_id` di baris ini. selanjutnya kita akan mencari data tersebut berdasarkan fitur lain yaitu yang saya gunakan adalah fitur `job_id` karena diasumsikan setiap pekerjaan berada pada departemen yang sama, maka akan kita cek dulu kebenarannya."
   ]
  },
  {
   "cell_type": "code",
   "execution_count": 78,
   "metadata": {},
   "outputs": [
    {
     "data": {
      "text/html": [
       "<div>\n",
       "<style scoped>\n",
       "    .dataframe tbody tr th:only-of-type {\n",
       "        vertical-align: middle;\n",
       "    }\n",
       "\n",
       "    .dataframe tbody tr th {\n",
       "        vertical-align: top;\n",
       "    }\n",
       "\n",
       "    .dataframe thead th {\n",
       "        text-align: right;\n",
       "    }\n",
       "</style>\n",
       "<table border=\"1\" class=\"dataframe\">\n",
       "  <thead>\n",
       "    <tr style=\"text-align: right;\">\n",
       "      <th></th>\n",
       "      <th>department_id</th>\n",
       "      <th>department_name</th>\n",
       "      <th>street_address</th>\n",
       "      <th>postal_code</th>\n",
       "      <th>city</th>\n",
       "      <th>state_province</th>\n",
       "      <th>country_id</th>\n",
       "      <th>country_name</th>\n",
       "      <th>region_id</th>\n",
       "    </tr>\n",
       "  </thead>\n",
       "  <tbody>\n",
       "    <tr>\n",
       "      <th>51</th>\n",
       "      <td>80</td>\n",
       "      <td>Sales</td>\n",
       "      <td>2500</td>\n",
       "      <td>The Oxford</td>\n",
       "      <td>OX9 9ZB</td>\n",
       "      <td>Oxford</td>\n",
       "      <td>Ox</td>\n",
       "      <td>None</td>\n",
       "      <td>None</td>\n",
       "    </tr>\n",
       "    <tr>\n",
       "      <th>80</th>\n",
       "      <td>0</td>\n",
       "      <td>None</td>\n",
       "      <td>None</td>\n",
       "      <td>None</td>\n",
       "      <td>None</td>\n",
       "      <td>None</td>\n",
       "      <td>None</td>\n",
       "      <td>None</td>\n",
       "      <td>None</td>\n",
       "    </tr>\n",
       "  </tbody>\n",
       "</table>\n",
       "</div>"
      ],
      "text/plain": [
       "   department_id department_name street_address   postal_code     city  \\\n",
       "51            80           Sales           2500   The Oxford   OX9 9ZB   \n",
       "80             0            None           None          None     None   \n",
       "\n",
       "   state_province country_id country_name region_id  \n",
       "51         Oxford         Ox         None      None  \n",
       "80           None       None         None      None  "
      ]
     },
     "execution_count": 78,
     "metadata": {},
     "output_type": "execute_result"
    }
   ],
   "source": [
    "raw_data[raw_data['job_id'] == 'SA_REP'][raw_data.columns[14:-1]].drop('manager_id', axis=1).drop_duplicates()"
   ]
  },
  {
   "cell_type": "markdown",
   "metadata": {},
   "source": [
    "Terlihat bahwa benar, dengan `job_id` adalah *SA_REP* sesuai dengan baris yang memiliki missing value sebelumnya hanya terdapat 2 data unik. Karena asumsi kita benar, maka akan dilakukan pembaruan data yang missing tadi dengan data yang kita temukan saling berkaitan."
   ]
  },
  {
   "cell_type": "code",
   "execution_count": 79,
   "metadata": {},
   "outputs": [
    {
     "data": {
      "text/plain": [
       "department_id                80\n",
       "department_name           Sales\n",
       "street_address             2500\n",
       "postal_code         The Oxford \n",
       "city                    OX9 9ZB\n",
       "state_province           Oxford\n",
       "country_id                   Ox\n",
       "country_name               None\n",
       "region_id                  None\n",
       "Name: 80, dtype: object"
      ]
     },
     "execution_count": 79,
     "metadata": {},
     "output_type": "execute_result"
    }
   ],
   "source": [
    "x = raw_data.columns[14:-1].drop('manager_id')\n",
    "raw_data.loc[80, x] = raw_data.loc[51, x]\n",
    "raw_data.loc[80, x]"
   ]
  },
  {
   "cell_type": "markdown",
   "metadata": {},
   "source": [
    "Selanjutnya, di ketahui terdapat 36 missing value pada fitur `country_name`, `region_id`, `region_name`, maka pertama kita mencari dulu data apakah yang kosong itu."
   ]
  },
  {
   "cell_type": "code",
   "execution_count": 80,
   "metadata": {},
   "outputs": [
    {
     "data": {
      "text/html": [
       "<div>\n",
       "<style scoped>\n",
       "    .dataframe tbody tr th:only-of-type {\n",
       "        vertical-align: middle;\n",
       "    }\n",
       "\n",
       "    .dataframe tbody tr th {\n",
       "        vertical-align: top;\n",
       "    }\n",
       "\n",
       "    .dataframe thead th {\n",
       "        text-align: right;\n",
       "    }\n",
       "</style>\n",
       "<table border=\"1\" class=\"dataframe\">\n",
       "  <thead>\n",
       "    <tr style=\"text-align: right;\">\n",
       "      <th></th>\n",
       "      <th>department_name</th>\n",
       "      <th>city</th>\n",
       "      <th>state_province</th>\n",
       "      <th>country_id</th>\n",
       "      <th>country_name</th>\n",
       "      <th>region_id</th>\n",
       "      <th>region_name</th>\n",
       "    </tr>\n",
       "  </thead>\n",
       "  <tbody>\n",
       "    <tr>\n",
       "      <th>0</th>\n",
       "      <td>Executive</td>\n",
       "      <td>Seattle</td>\n",
       "      <td>Washington</td>\n",
       "      <td>US</td>\n",
       "      <td>United States of America</td>\n",
       "      <td>2</td>\n",
       "      <td>Americas\\r</td>\n",
       "    </tr>\n",
       "    <tr>\n",
       "      <th>4</th>\n",
       "      <td>IT</td>\n",
       "      <td>Southlake</td>\n",
       "      <td>Texas</td>\n",
       "      <td>US</td>\n",
       "      <td>United States of America</td>\n",
       "      <td>2</td>\n",
       "      <td>Americas\\r</td>\n",
       "    </tr>\n",
       "    <tr>\n",
       "      <th>9</th>\n",
       "      <td>Finance</td>\n",
       "      <td>Seattle</td>\n",
       "      <td>Washington</td>\n",
       "      <td>US</td>\n",
       "      <td>United States of America</td>\n",
       "      <td>2</td>\n",
       "      <td>Americas\\r</td>\n",
       "    </tr>\n",
       "    <tr>\n",
       "      <th>15</th>\n",
       "      <td>Purchasing</td>\n",
       "      <td>Seattle</td>\n",
       "      <td>Washington</td>\n",
       "      <td>US</td>\n",
       "      <td>United States of America</td>\n",
       "      <td>2</td>\n",
       "      <td>Americas\\r</td>\n",
       "    </tr>\n",
       "    <tr>\n",
       "      <th>21</th>\n",
       "      <td>Shipping</td>\n",
       "      <td>South San Francisco</td>\n",
       "      <td>California</td>\n",
       "      <td>US</td>\n",
       "      <td>United States of America</td>\n",
       "      <td>2</td>\n",
       "      <td>Americas\\r</td>\n",
       "    </tr>\n",
       "    <tr>\n",
       "      <th>46</th>\n",
       "      <td>Sales</td>\n",
       "      <td>OX9 9ZB</td>\n",
       "      <td>Oxford</td>\n",
       "      <td>Ox</td>\n",
       "      <td>None</td>\n",
       "      <td>None</td>\n",
       "      <td>None</td>\n",
       "    </tr>\n",
       "    <tr>\n",
       "      <th>102</th>\n",
       "      <td>Administration</td>\n",
       "      <td>Seattle</td>\n",
       "      <td>Washington</td>\n",
       "      <td>US</td>\n",
       "      <td>United States of America</td>\n",
       "      <td>2</td>\n",
       "      <td>Americas\\r</td>\n",
       "    </tr>\n",
       "    <tr>\n",
       "      <th>104</th>\n",
       "      <td>Marketing</td>\n",
       "      <td>Toronto</td>\n",
       "      <td>Ontario</td>\n",
       "      <td>CA</td>\n",
       "      <td>Canada</td>\n",
       "      <td>2</td>\n",
       "      <td>Americas\\r</td>\n",
       "    </tr>\n",
       "    <tr>\n",
       "      <th>106</th>\n",
       "      <td>Human Resources</td>\n",
       "      <td>London</td>\n",
       "      <td></td>\n",
       "      <td>UK</td>\n",
       "      <td>United Kingdom</td>\n",
       "      <td>1</td>\n",
       "      <td>Europe\\r</td>\n",
       "    </tr>\n",
       "    <tr>\n",
       "      <th>107</th>\n",
       "      <td>Public Relations</td>\n",
       "      <td>Munich</td>\n",
       "      <td>Bavaria</td>\n",
       "      <td>DE</td>\n",
       "      <td>Germany</td>\n",
       "      <td>1</td>\n",
       "      <td>Europe\\r</td>\n",
       "    </tr>\n",
       "    <tr>\n",
       "      <th>108</th>\n",
       "      <td>Accounting</td>\n",
       "      <td>Seattle</td>\n",
       "      <td>Washington</td>\n",
       "      <td>US</td>\n",
       "      <td>United States of America</td>\n",
       "      <td>2</td>\n",
       "      <td>Americas\\r</td>\n",
       "    </tr>\n",
       "  </tbody>\n",
       "</table>\n",
       "</div>"
      ],
      "text/plain": [
       "      department_name                 city state_province country_id  \\\n",
       "0           Executive              Seattle     Washington         US   \n",
       "4                  IT            Southlake          Texas         US   \n",
       "9             Finance              Seattle     Washington         US   \n",
       "15         Purchasing              Seattle     Washington         US   \n",
       "21           Shipping  South San Francisco     California         US   \n",
       "46              Sales              OX9 9ZB         Oxford         Ox   \n",
       "102    Administration              Seattle     Washington         US   \n",
       "104         Marketing              Toronto        Ontario         CA   \n",
       "106   Human Resources               London                        UK   \n",
       "107  Public Relations               Munich        Bavaria         DE   \n",
       "108        Accounting              Seattle     Washington         US   \n",
       "\n",
       "                 country_name region_id region_name  \n",
       "0    United States of America         2  Americas\\r  \n",
       "4    United States of America         2  Americas\\r  \n",
       "9    United States of America         2  Americas\\r  \n",
       "15   United States of America         2  Americas\\r  \n",
       "21   United States of America         2  Americas\\r  \n",
       "46                       None      None        None  \n",
       "102  United States of America         2  Americas\\r  \n",
       "104                    Canada         2  Americas\\r  \n",
       "106            United Kingdom         1    Europe\\r  \n",
       "107                   Germany         1    Europe\\r  \n",
       "108  United States of America         2  Americas\\r  "
      ]
     },
     "execution_count": 80,
     "metadata": {},
     "output_type": "execute_result"
    }
   ],
   "source": [
    "raw_data[['department_name', 'city', 'state_province', 'country_id', \n",
    "          'country_name', 'region_id', 'region_name']].drop_duplicates()"
   ]
  },
  {
   "cell_type": "markdown",
   "metadata": {},
   "source": [
    "Dengan tabel yang kita jabarkan diatas, ditemukan bahwa terdapat 2 baris data unik yang tidak mempunyai isi, di asumsikan dari 36 data yang memiliki missing value hanya berasal dari 2 baris data unik yang telah kita temukan. Selanjutnya kita mencari data tersebut dengan mencarinya di `wikipedia` dan ditemukan bahwa *UK tidak memiliki state/lander seperti yang ada pada negara USA dan Jerman*  \n",
    "Maka di asumsikan juga bahwa data yang akan kita masukan sebagai berikut:\n",
    "- city: OX9 9ZB, state_province: Oxford, country_name: United Kingdom, region_id: 1, region_name: Europe  \n",
    "- city: London, state_province: London, country_name: United Kingdom, region_id: 1, region_name: Europe  "
   ]
  },
  {
   "cell_type": "code",
   "execution_count": 81,
   "metadata": {},
   "outputs": [],
   "source": [
    "a = raw_data[raw_data['city'] == 'OX9 9ZB'].index.tolist()\n",
    "b = raw_data[raw_data['city'] == 'London'].index.tolist()\n",
    "raw_data.loc[a, ['country_name', 'region_id', 'region_name']] = ['United Kingdom', '1', 'Europe\\r']\n",
    "raw_data.loc[b, ['state_province']] = ['London']"
   ]
  },
  {
   "cell_type": "markdown",
   "metadata": {},
   "source": [
    "### Duplicated Data"
   ]
  },
  {
   "cell_type": "code",
   "execution_count": 82,
   "metadata": {},
   "outputs": [
    {
     "data": {
      "text/plain": [
       "0"
      ]
     },
     "execution_count": 82,
     "metadata": {},
     "output_type": "execute_result"
    }
   ],
   "source": [
    "raw_data.duplicated().sum()"
   ]
  },
  {
   "cell_type": "markdown",
   "metadata": {},
   "source": [
    "Data pada tabel `raw_data` tidak memiliki duplikasi data"
   ]
  },
  {
   "cell_type": "markdown",
   "metadata": {},
   "source": [
    "## Job Grades"
   ]
  },
  {
   "cell_type": "markdown",
   "metadata": {},
   "source": [
    "### Data Anomalies"
   ]
  },
  {
   "cell_type": "code",
   "execution_count": 83,
   "metadata": {},
   "outputs": [
    {
     "name": "stdout",
     "output_type": "stream",
     "text": [
      "<class 'pandas.core.frame.DataFrame'>\n",
      "RangeIndex: 19 entries, 0 to 18\n",
      "Data columns (total 11 columns):\n",
      " #   Column                  Non-Null Count  Dtype \n",
      "---  ------                  --------------  ----- \n",
      " 0   job_id                  19 non-null     object\n",
      " 1   job_title               19 non-null     object\n",
      " 2   min_salary              19 non-null     object\n",
      " 3   max_salary              19 non-null     object\n",
      " 4   avg_salary              19 non-null     object\n",
      " 5   grade_level             19 non-null     int64 \n",
      " 6   current_min_salary      19 non-null     object\n",
      " 7   current_max_salary      19 non-null     object\n",
      " 8   current_avg_salary      19 non-null     object\n",
      " 9   salary_count            19 non-null     int64 \n",
      " 10  grade_level_by_current  19 non-null     int64 \n",
      "dtypes: int64(3), object(8)\n",
      "memory usage: 1.8+ KB\n"
     ]
    }
   ],
   "source": [
    "job_grades.info()"
   ]
  },
  {
   "cell_type": "markdown",
   "metadata": {},
   "source": [
    "Ditemukan terdapat beberapa fitur yang memiliki tipe data yang salah, maka akan kita ubah menjadi tipe data yang benar.  \n",
    "Masing-masing fitur yang memiliki tipe data salah yaitu:  \n",
    "- `min_salary`, `min_salary`, `max_salary`, `avg_salary`, `current_min_salary`, `current_max_salary`, `current_avg_salary` yang awalnya bertipe data `object` akan kita ubah menjadi tipe data `numeric`"
   ]
  },
  {
   "cell_type": "code",
   "execution_count": 84,
   "metadata": {},
   "outputs": [
    {
     "name": "stdout",
     "output_type": "stream",
     "text": [
      "min_salary            float64\n",
      "max_salary            float64\n",
      "avg_salary            float64\n",
      "current_min_salary    float64\n",
      "current_max_salary    float64\n",
      "current_avg_salary    float64\n",
      "dtype: object\n"
     ]
    }
   ],
   "source": [
    "job_grades[['min_salary', 'max_salary', 'avg_salary', 'current_min_salary', 'current_max_salary', 'current_avg_salary']] = job_grades[[\n",
    "    'min_salary', 'max_salary', 'avg_salary', 'current_min_salary', 'current_max_salary', 'current_avg_salary']].apply(pd.to_numeric)\n",
    "\n",
    "print(job_grades[['min_salary', 'max_salary', 'avg_salary',\n",
    "      'current_min_salary', 'current_max_salary', 'current_avg_salary']].dtypes)"
   ]
  },
  {
   "cell_type": "markdown",
   "metadata": {},
   "source": [
    "### Missing Values"
   ]
  },
  {
   "cell_type": "code",
   "execution_count": 85,
   "metadata": {},
   "outputs": [
    {
     "data": {
      "text/plain": [
       "Series([], dtype: int64)"
      ]
     },
     "execution_count": 85,
     "metadata": {},
     "output_type": "execute_result"
    }
   ],
   "source": [
    "job_grades.isnull().sum()[job_grades.isnull().sum() > 0]"
   ]
  },
  {
   "cell_type": "markdown",
   "metadata": {},
   "source": [
    "Data pada tabel `job_grades` tidak memiliki missing values"
   ]
  },
  {
   "cell_type": "markdown",
   "metadata": {},
   "source": [
    "### Duplicated Data"
   ]
  },
  {
   "cell_type": "code",
   "execution_count": 86,
   "metadata": {},
   "outputs": [
    {
     "data": {
      "text/plain": [
       "0"
      ]
     },
     "execution_count": 86,
     "metadata": {},
     "output_type": "execute_result"
    }
   ],
   "source": [
    "job_grades.duplicated().sum()"
   ]
  },
  {
   "cell_type": "markdown",
   "metadata": {},
   "source": [
    "Data pada tabel `job_grades` tidak memiliki duplikasi data"
   ]
  },
  {
   "cell_type": "markdown",
   "metadata": {},
   "source": [
    "## Data Kontak Karyawan"
   ]
  },
  {
   "cell_type": "code",
   "execution_count": 87,
   "metadata": {},
   "outputs": [
    {
     "data": {
      "text/html": [
       "<div>\n",
       "<style scoped>\n",
       "    .dataframe tbody tr th:only-of-type {\n",
       "        vertical-align: middle;\n",
       "    }\n",
       "\n",
       "    .dataframe tbody tr th {\n",
       "        vertical-align: top;\n",
       "    }\n",
       "\n",
       "    .dataframe thead th {\n",
       "        text-align: right;\n",
       "    }\n",
       "</style>\n",
       "<table border=\"1\" class=\"dataframe\">\n",
       "  <thead>\n",
       "    <tr style=\"text-align: right;\">\n",
       "      <th></th>\n",
       "      <th>employee_id</th>\n",
       "      <th>first_name</th>\n",
       "      <th>last_name</th>\n",
       "      <th>email</th>\n",
       "      <th>phone_number</th>\n",
       "      <th>position</th>\n",
       "      <th>department</th>\n",
       "    </tr>\n",
       "  </thead>\n",
       "  <tbody>\n",
       "    <tr>\n",
       "      <th>69</th>\n",
       "      <td>168</td>\n",
       "      <td>Lisa</td>\n",
       "      <td>Ozer</td>\n",
       "      <td>LOZER</td>\n",
       "      <td>011.44.1343.929268</td>\n",
       "      <td>Sales Representative</td>\n",
       "      <td>Sales</td>\n",
       "    </tr>\n",
       "    <tr>\n",
       "      <th>17</th>\n",
       "      <td>116</td>\n",
       "      <td>Shelli</td>\n",
       "      <td>Baida</td>\n",
       "      <td>SBAIDA</td>\n",
       "      <td>515.127.4563</td>\n",
       "      <td>Purchasing Clerk</td>\n",
       "      <td>Purchasing</td>\n",
       "    </tr>\n",
       "    <tr>\n",
       "      <th>39</th>\n",
       "      <td>138</td>\n",
       "      <td>Stephen</td>\n",
       "      <td>Stiles</td>\n",
       "      <td>SSTILES</td>\n",
       "      <td>650.121.2034</td>\n",
       "      <td>Stock Clerk</td>\n",
       "      <td>Shipping</td>\n",
       "    </tr>\n",
       "    <tr>\n",
       "      <th>37</th>\n",
       "      <td>136</td>\n",
       "      <td>Hazel</td>\n",
       "      <td>Philtanker</td>\n",
       "      <td>HPHILTAN</td>\n",
       "      <td>650.127.1634</td>\n",
       "      <td>Stock Clerk</td>\n",
       "      <td>Shipping</td>\n",
       "    </tr>\n",
       "    <tr>\n",
       "      <th>15</th>\n",
       "      <td>114</td>\n",
       "      <td>Den</td>\n",
       "      <td>Raphaely</td>\n",
       "      <td>DRAPHEAL</td>\n",
       "      <td>515.127.4561</td>\n",
       "      <td>Purchasing Manager</td>\n",
       "      <td>Purchasing</td>\n",
       "    </tr>\n",
       "  </tbody>\n",
       "</table>\n",
       "</div>"
      ],
      "text/plain": [
       "   employee_id first_name   last_name     email        phone_number  \\\n",
       "69         168       Lisa        Ozer     LOZER  011.44.1343.929268   \n",
       "17         116     Shelli       Baida    SBAIDA        515.127.4563   \n",
       "39         138    Stephen      Stiles   SSTILES        650.121.2034   \n",
       "37         136      Hazel  Philtanker  HPHILTAN        650.127.1634   \n",
       "15         114        Den    Raphaely  DRAPHEAL        515.127.4561   \n",
       "\n",
       "                position  department  \n",
       "69  Sales Representative       Sales  \n",
       "17      Purchasing Clerk  Purchasing  \n",
       "39           Stock Clerk    Shipping  \n",
       "37           Stock Clerk    Shipping  \n",
       "15    Purchasing Manager  Purchasing  "
      ]
     },
     "execution_count": 87,
     "metadata": {},
     "output_type": "execute_result"
    }
   ],
   "source": [
    "employees_contact = raw_data[['employee_id', 'first_name', 'last_name', 'email', 'phone_number', 'job_title',\n",
    "                              'department_name']].rename(columns={'job_title': 'position', 'department_name': 'department'}).drop_duplicates()\n",
    "employees_contact.sample(5)"
   ]
  },
  {
   "cell_type": "code",
   "execution_count": 88,
   "metadata": {},
   "outputs": [
    {
     "data": {
      "text/plain": [
       "(107, 7)"
      ]
     },
     "execution_count": 88,
     "metadata": {},
     "output_type": "execute_result"
    }
   ],
   "source": [
    "employees_contact.shape # 107/110: berarti ada 3 data yang terduplikasi dan telah dihilangkan"
   ]
  },
  {
   "cell_type": "code",
   "execution_count": 89,
   "metadata": {},
   "outputs": [
    {
     "name": "stdout",
     "output_type": "stream",
     "text": [
      "<class 'pandas.core.frame.DataFrame'>\n",
      "Int64Index: 107 entries, 0 to 109\n",
      "Data columns (total 7 columns):\n",
      " #   Column        Non-Null Count  Dtype \n",
      "---  ------        --------------  ----- \n",
      " 0   employee_id   107 non-null    object\n",
      " 1   first_name    107 non-null    object\n",
      " 2   last_name     107 non-null    object\n",
      " 3   email         107 non-null    object\n",
      " 4   phone_number  107 non-null    object\n",
      " 5   position      107 non-null    object\n",
      " 6   department    107 non-null    object\n",
      "dtypes: object(7)\n",
      "memory usage: 6.7+ KB\n"
     ]
    }
   ],
   "source": [
    "employees_contact.info()"
   ]
  },
  {
   "cell_type": "markdown",
   "metadata": {},
   "source": [
    "Pada tabel `employees_contact` yang telah kita buat tidak ditemukan `Missing Values` maupun `Duplikasi Data`"
   ]
  },
  {
   "cell_type": "markdown",
   "metadata": {},
   "source": [
    "# Data Visualization & Statistics"
   ]
  },
  {
   "cell_type": "markdown",
   "metadata": {},
   "source": [
    "## Outlier"
   ]
  },
  {
   "cell_type": "markdown",
   "metadata": {},
   "source": [
    "Bagian ini kita akan mencari nilai outlier pada tabel `raw_data` berdasarkan gaji pada setiap karyawan.  \n",
    "Pertama, kita akan mencari gambaran persebaran data dari gaji menggunakan histogram dan boxplot."
   ]
  },
  {
   "cell_type": "code",
   "execution_count": 122,
   "metadata": {},
   "outputs": [
    {
     "data": {
      "image/png": "[encoded data removed]",
      "text/plain": [
       "<Figure size 1152x360 with 2 Axes>"
      ]
     },
     "metadata": {
      "needs_background": "light"
     },
     "output_type": "display_data"
    }
   ],
   "source": [
    "# Plot the distribution plot for the features and Form a Box-plot for the skewed feature\n",
    "plt.figure(figsize=(16,5))\n",
    "plt.subplot(1,2,1)\n",
    "sns.histplot(raw_data['salary'], kde=True)\n",
    "plt.subplot(1,2,2)\n",
    "sns.boxplot(data=raw_data, x='salary', showmeans=True)\n",
    "plt.show()\n"
   ]
  },
  {
   "cell_type": "markdown",
   "metadata": {},
   "source": [
    "Sekilas, terlihat bahwa persebaran berfokus ke kiri dan nilai median yang sedikit ke kanan yang berarti data pada fitur `salary` bisa dibilang sebagai `Negatif Skew/Left Skewed`.  \n",
    "Selanjutnya, kita akan mencari nilai quartile lalu melakukan perhitungan berdasarkan rumus berikut:\n",
    "- Normal Distribution: (Q3 - Q2) = (Q2 - Q1)\n",
    "- Positive Skew: (Q3 - Q2) > (Q2 - Q1)\n",
    "- Negative Skew: (Q3 - Q2) < (Q2 - Q1)"
   ]
  },
  {
   "cell_type": "code",
   "execution_count": 107,
   "metadata": {},
   "outputs": [
    {
     "name": "stdout",
     "output_type": "stream",
     "text": [
      "Q1: 3100.0\n",
      "Q2: 6200.0\n",
      "Q3: 8950.0\n",
      "IQR: 5850.0\n"
     ]
    }
   ],
   "source": [
    "# Finding the IQR\n",
    "Q1 = raw_data['salary'].quantile(.25)\n",
    "Q2 = raw_data['salary'].quantile(.5)\n",
    "Q3 = raw_data['salary'].quantile(.75)\n",
    "iqr = Q3 - Q1\n",
    "\n",
    "print('Q1:', Q1)\n",
    "print('Q2:', Q2)\n",
    "print('Q3:', Q3)\n",
    "print('IQR:', iqr)\n"
   ]
  },
  {
   "cell_type": "code",
   "execution_count": 108,
   "metadata": {},
   "outputs": [
    {
     "name": "stdout",
     "output_type": "stream",
     "text": [
      "Negative Skew\n"
     ]
    }
   ],
   "source": [
    "if (Q3 - Q2) == (Q2 - Q1):\n",
    "    print('Normal Distribution')\n",
    "elif (Q3 - Q2) > (Q2 - Q1):\n",
    "    print('Positive Skew')\n",
    "else:\n",
    "    print('Negative Skew')"
   ]
  },
  {
   "cell_type": "markdown",
   "metadata": {},
   "source": [
    "Terbukti bahwa data pada fitur `salary` tidak berdistribusi normal dan memiliki kemiringan negatif"
   ]
  },
  {
   "cell_type": "markdown",
   "metadata": {},
   "source": [
    "Selanjutnya, untuk mencari outlier diperlukan batas atas dan batas bawah untuk menentukan apakah suatu data termasuk kedalam outlier atau tidak.  \n",
    "Rumus perhitungan batas atas dan batas bawah, yaitu:\n",
    "- Batas Atas: Q3 + (1.5 * IQR)\n",
    "- Batas Bawah: Q1 - (1.5 * IQR)"
   ]
  },
  {
   "cell_type": "code",
   "execution_count": 92,
   "metadata": {},
   "outputs": [
    {
     "name": "stdout",
     "output_type": "stream",
     "text": [
      "Upper Limit: 17725.0\n",
      "Lower Limit -5675.0\n"
     ]
    }
   ],
   "source": [
    "# Finding upper and lower limit\n",
    "upper_limit = Q3 + 1.5 * iqr\n",
    "lower_limit = Q1 - 1.5 * iqr\n",
    "\n",
    "print('Upper Limit:', upper_limit)\n",
    "print('Lower Limit', lower_limit)\n"
   ]
  },
  {
   "cell_type": "markdown",
   "metadata": {},
   "source": [
    "Diketahui batas atas adalah `17725.0` dan batas bawahnya adalah `-5675.0`  \n",
    "Selanjutnya kita akan mencari apakah ada data yang memenuhi kriteria dari outlier tersebut"
   ]
  },
  {
   "cell_type": "code",
   "execution_count": 102,
   "metadata": {},
   "outputs": [
    {
     "data": {
      "text/html": [
       "<div>\n",
       "<style scoped>\n",
       "    .dataframe tbody tr th:only-of-type {\n",
       "        vertical-align: middle;\n",
       "    }\n",
       "\n",
       "    .dataframe tbody tr th {\n",
       "        vertical-align: top;\n",
       "    }\n",
       "\n",
       "    .dataframe thead th {\n",
       "        text-align: right;\n",
       "    }\n",
       "</style>\n",
       "<table border=\"1\" class=\"dataframe\">\n",
       "  <thead>\n",
       "    <tr style=\"text-align: right;\">\n",
       "      <th></th>\n",
       "      <th>employee_id</th>\n",
       "      <th>first_name</th>\n",
       "      <th>last_name</th>\n",
       "      <th>email</th>\n",
       "      <th>phone_number</th>\n",
       "      <th>hire_date</th>\n",
       "      <th>salary</th>\n",
       "      <th>commission_pct</th>\n",
       "      <th>job_id</th>\n",
       "      <th>start_date</th>\n",
       "      <th>end_date</th>\n",
       "      <th>job_title</th>\n",
       "      <th>min_salary</th>\n",
       "      <th>max_salary</th>\n",
       "      <th>department_id</th>\n",
       "      <th>department_name</th>\n",
       "      <th>manager_id</th>\n",
       "      <th>street_address</th>\n",
       "      <th>postal_code</th>\n",
       "      <th>city</th>\n",
       "      <th>state_province</th>\n",
       "      <th>country_id</th>\n",
       "      <th>country_name</th>\n",
       "      <th>region_id</th>\n",
       "      <th>region_name</th>\n",
       "    </tr>\n",
       "  </thead>\n",
       "  <tbody>\n",
       "    <tr>\n",
       "      <th>0</th>\n",
       "      <td>100</td>\n",
       "      <td>Steven</td>\n",
       "      <td>King</td>\n",
       "      <td>SKING</td>\n",
       "      <td>515.123.4567</td>\n",
       "      <td>1987-06-17</td>\n",
       "      <td>24000.0</td>\n",
       "      <td>0.0</td>\n",
       "      <td>AD_PRES</td>\n",
       "      <td>NaT</td>\n",
       "      <td>NaT</td>\n",
       "      <td>President</td>\n",
       "      <td>20000.0</td>\n",
       "      <td>40000.0</td>\n",
       "      <td>90</td>\n",
       "      <td>Executive</td>\n",
       "      <td>0</td>\n",
       "      <td>1700</td>\n",
       "      <td>98199</td>\n",
       "      <td>Seattle</td>\n",
       "      <td>Washington</td>\n",
       "      <td>US</td>\n",
       "      <td>United States of America</td>\n",
       "      <td>2</td>\n",
       "      <td>Americas\\r</td>\n",
       "    </tr>\n",
       "  </tbody>\n",
       "</table>\n",
       "</div>"
      ],
      "text/plain": [
       "  employee_id first_name last_name  email  phone_number  hire_date   salary  \\\n",
       "0         100     Steven      King  SKING  515.123.4567 1987-06-17  24000.0   \n",
       "\n",
       "   commission_pct   job_id start_date end_date  job_title  min_salary  \\\n",
       "0             0.0  AD_PRES        NaT      NaT  President     20000.0   \n",
       "\n",
       "   max_salary department_id department_name manager_id street_address  \\\n",
       "0     40000.0            90       Executive          0           1700   \n",
       "\n",
       "  postal_code     city state_province country_id              country_name  \\\n",
       "0       98199  Seattle     Washington         US  United States of America   \n",
       "\n",
       "  region_id region_name  \n",
       "0         2  Americas\\r  "
      ]
     },
     "execution_count": 102,
     "metadata": {},
     "output_type": "execute_result"
    }
   ],
   "source": [
    "# Finding Outliers\n",
    "raw_data[(raw_data['salary'] > upper_limit) | (raw_data['salary'] < lower_limit)]"
   ]
  },
  {
   "cell_type": "markdown",
   "metadata": {},
   "source": [
    "Ditemukan bahwa terdapat 1 data yang memiliki nilai gaji yang dianggap outlier, Outlier sendiri merupakan data yang pantang untuk di hapus karena merupakan bagian dari keseluruhan data yang diperlukan untuk proses analisis data, maka untuk saat ini karena tujuan penelitian ini hanya untuk analisi maka tidak kita melakukan penanganan."
   ]
  },
  {
   "cell_type": "markdown",
   "metadata": {},
   "source": [
    "## Banyaknya Karyawan Berdasarkan Jabatan"
   ]
  },
  {
   "cell_type": "code",
   "execution_count": 71,
   "metadata": {},
   "outputs": [
    {
     "name": "stdout",
     "output_type": "stream",
     "text": [
      "terdapat 19 posisi yang ada pada perusahaan ini dengan masing-masing jumlah karyawannya, yaitu:\n"
     ]
    },
    {
     "data": {
      "image/png": "[encoded data removed]",
      "text/plain": [
       "<Figure size 720x576 with 1 Axes>"
      ]
     },
     "metadata": {
      "needs_background": "light"
     },
     "output_type": "display_data"
    }
   ],
   "source": [
    "# Mencari banyaknya jabatan beserta banyaknya karyawan pada posisi tersebut.\n",
    "print('terdapat', employees_contact[['position']].value_counts().count(),\n",
    "      'posisi yang ada pada perusahaan ini dengan masing-masing jumlah karyawannya, yaitu:')\n",
    "position = employees_contact[['position']].value_counts().reset_index().rename(\n",
    "    columns={0: 'number of employees'})\n",
    "\n",
    "plt.figure(figsize=(10, 8))\n",
    "ax = sns.barplot(data=position, y='position', x='number of employees', color='dodgerblue')\n",
    "ax.bar_label(ax.containers[0])\n",
    "plt.show()"
   ]
  },
  {
   "cell_type": "markdown",
   "metadata": {},
   "source": [
    "## Banyaknya Karyawan Berdasarkan Departemen"
   ]
  },
  {
   "cell_type": "code",
   "execution_count": 72,
   "metadata": {},
   "outputs": [
    {
     "name": "stdout",
     "output_type": "stream",
     "text": [
      "terdapat 11 department yang ada pada perusahaan ini dengan masing-masing jumlah karyawannya, yaitu:\n"
     ]
    },
    {
     "data": {
      "image/png": "[encoded data removed]",
      "text/plain": [
       "<Figure size 1296x432 with 1 Axes>"
      ]
     },
     "metadata": {
      "needs_background": "light"
     },
     "output_type": "display_data"
    }
   ],
   "source": [
    "# Mencari banyaknya department beserta banyaknya karyawan pada department tersebut.\n",
    "print('terdapat', employees_contact[['department']].value_counts().count(),\n",
    "      'department yang ada pada perusahaan ini dengan masing-masing jumlah karyawannya, yaitu:')\n",
    "dept = employees_contact[['department']].value_counts(\n",
    ").reset_index().rename(columns={0: 'number of employees'})\n",
    "\n",
    "plt.figure(figsize=(18, 6))\n",
    "ax = sns.barplot(data=dept, x='department', y='number of employees', color='dodgerblue')\n",
    "ax.bar_label(ax.containers[0])\n",
    "plt.show()\n"
   ]
  },
  {
   "cell_type": "markdown",
   "metadata": {},
   "source": [
    "## Banyaknya Karyawan Berdasarkan Lokasi Kota Departemennya"
   ]
  },
  {
   "cell_type": "code",
   "execution_count": 141,
   "metadata": {},
   "outputs": [
    {
     "name": "stdout",
     "output_type": "stream",
     "text": [
      "terdapat 7 lokasi kota yang ditempati departemennya dengan masing-masing jumlah karyawannya, yaitu:\n"
     ]
    },
    {
     "data": {
      "image/png": "[encoded data removed]",
      "text/plain": [
       "<Figure size 720x288 with 1 Axes>"
      ]
     },
     "metadata": {
      "needs_background": "light"
     },
     "output_type": "display_data"
    }
   ],
   "source": [
    "city = raw_data[['city']].value_counts(\n",
    ").reset_index().rename(columns={0: 'number of employees'})\n",
    "print('terdapat', city[['city']].value_counts().count(),\n",
    "      'kota yang ditempati departemennya dengan masing-masing jumlah karyawannya, yaitu:')\n",
    "plt.figure(figsize=(10, 4))\n",
    "# plt.subplot(1, 2, 1)\n",
    "ax = sns.barplot(data=city, x='city', y='number of employees', color='dodgerblue')\n",
    "ax.bar_label(ax.containers[0])\n",
    "plt.xlabel('City')\n",
    "plt.ylabel('Number of Employees')\n",
    "plt.show()"
   ]
  },
  {
   "cell_type": "markdown",
   "metadata": {},
   "source": [
    "## Perbandingan Besaran Gaji Karyawan Berdasarkan Jabatan"
   ]
  },
  {
   "cell_type": "code",
   "execution_count": 73,
   "metadata": {},
   "outputs": [
    {
     "data": {
      "image/png": "[encoded data removed]",
      "text/plain": [
       "<Figure size 2160x576 with 1 Axes>"
      ]
     },
     "metadata": {
      "needs_background": "light"
     },
     "output_type": "display_data"
    }
   ],
   "source": [
    "tidy = pd.melt(job_grades, id_vars=['job_title'], value_vars=[\n",
    "               'min_salary', 'max_salary', 'avg_salary', 'current_min_salary', 'current_max_salary', 'current_avg_salary'])\n",
    "\n",
    "plt.figure(figsize=(30, 8))\n",
    "sns.barplot(data=tidy, x='job_title', y='value', hue='variable')\n",
    "plt.title('Salary Range', size=20)\n",
    "plt.xlabel(None)\n",
    "plt.ylabel(None)\n",
    "plt.yticks(size=15)\n",
    "plt.xticks(size=15, rotation=45, ha='right', rotation_mode='anchor')\n",
    "plt.legend(loc=0, fontsize=15)\n",
    "plt.show()\n"
   ]
  },
  {
   "cell_type": "markdown",
   "metadata": {},
   "source": [
    "Terlihat bahwa sepertinya besaran gaji karyawan memiliki range gaji yang sesuai dengan dengan standar gaji pada masing-masing jabatanya"
   ]
  },
  {
   "cell_type": "markdown",
   "metadata": {},
   "source": [
    "## Linearitas & Hubungan pada Gaji Karyawan"
   ]
  },
  {
   "cell_type": "code",
   "execution_count": 110,
   "metadata": {},
   "outputs": [],
   "source": [
    "z = pd.merge(raw_data[['employee_id', 'job_id', 'salary']], \n",
    "             job_grades,\n",
    "             on='job_id', how='left')"
   ]
  },
  {
   "cell_type": "code",
   "execution_count": 112,
   "metadata": {},
   "outputs": [
    {
     "data": {
      "image/png": "[encoded data removed]",
      "text/plain": [
       "<Figure size 2160x1080 with 6 Axes>"
      ]
     },
     "metadata": {
      "needs_background": "light"
     },
     "output_type": "display_data"
    }
   ],
   "source": [
    "x = z['salary']\n",
    "plt.figure(figsize=(30, 15))\n",
    "plt.subplot(2, 3, 1)\n",
    "sns.regplot(x=x, y=z['min_salary'])\n",
    "plt.subplot(2, 3, 2)\n",
    "sns.regplot(x=x, y=z['max_salary'])\n",
    "plt.subplot(2, 3, 3)\n",
    "sns.regplot(x=x, y=z['avg_salary'])\n",
    "plt.subplot(2, 3, 4)\n",
    "sns.regplot(x=x, y=z['current_min_salary'])\n",
    "plt.subplot(2, 3, 5)\n",
    "sns.regplot(x=x, y=z['current_max_salary'])\n",
    "plt.subplot(2, 3, 6)\n",
    "sns.regplot(x=x, y=z['current_avg_salary'])\n",
    "plt.show()\n"
   ]
  },
  {
   "cell_type": "code",
   "execution_count": 132,
   "metadata": {},
   "outputs": [
    {
     "data": {
      "image/png": "[encoded data removed]",
      "text/plain": [
       "<Figure size 720x720 with 2 Axes>"
      ]
     },
     "metadata": {
      "needs_background": "light"
     },
     "output_type": "display_data"
    }
   ],
   "source": [
    "plt.figure(figsize=(10,10))\n",
    "sns.heatmap(z[['salary', 'min_salary', 'max_salary',\n",
    "            'avg_salary', 'current_min_salary', 'current_max_salary', \n",
    "            'current_avg_salary']].corr('spearman'), annot=True)\n",
    "plt.xticks(rotation=45, ha='right', rotation_mode='anchor')\n",
    "plt.show()"
   ]
  },
  {
   "cell_type": "markdown",
   "metadata": {},
   "source": [
    "Di temukan bahwa ternyata semua data gaji karyawan dengan agregat berdasarkan gaji yang telah ditetapkan perusahaan dan gaji karyawan lainnya memiliki korelasi yang tinggi. Artinya, gaji pada setiap karyawan telah memenuhi standar gaji yang ditetapkan dan juga sama dengan karyawan lainnya."
   ]
  },
  {
   "cell_type": "markdown",
   "metadata": {},
   "source": [
    "## Uji Normalitas Pada Data Gaji Karyawan"
   ]
  },
  {
   "cell_type": "code",
   "execution_count": 114,
   "metadata": {},
   "outputs": [
    {
     "name": "stdout",
     "output_type": "stream",
     "text": [
      "Tolak H0 Karena P-Value (3.985590879551637e-08 < 0.05)\n",
      "DATA TIDAK BERDISTRIBUS NORMAL\n"
     ]
    }
   ],
   "source": [
    "from scipy.stats import shapiro\n",
    "\n",
    "stat, pval = shapiro(raw_data['salary'])\n",
    "\n",
    "if pval < 0.05 :\n",
    "    print (f'Tolak H0 Karena P-Value ({pval} < 0.05)')\n",
    "    print ('Data Tidak Berdistribusi Normal')\n",
    "else :\n",
    "    print (f'Gagal Tolak H0 Karena P-Value ({pval} > 0.05)')\n",
    "    print ('Data Berdistribusi Normal')"
   ]
  },
  {
   "cell_type": "markdown",
   "metadata": {},
   "source": [
    "## Perbandingan Median Besaran Gaji Karyawan pada Setiap Jabatan \n",
    "**Hypothesis:**  \n",
    "- **H0:** Tidak ada perbedaan nilai median gaji karyawan pada setiap jabatan yang ada  \n",
    "- **Ha:** Terdapat perbedaan nilai median gaji karyawan pada satu atau lebih jabatan yang ada"
   ]
  },
  {
   "cell_type": "code",
   "execution_count": 115,
   "metadata": {},
   "outputs": [
    {
     "name": "stdout",
     "output_type": "stream",
     "text": [
      "V-Statistic 94.9017649523658\n",
      "P-Value 1.8830492885526735e-12\n"
     ]
    }
   ],
   "source": [
    "from scipy.stats import kruskal\n",
    "\n",
    "stat, pval = kruskal(\n",
    "    raw_data[raw_data['job_id'] == 'SA_REP']['salary'],\n",
    "    raw_data[raw_data['job_id'] == 'ST_CLERK']['salary'],\n",
    "    raw_data[raw_data['job_id'] == 'SH_CLERK']['salary'],\n",
    "    raw_data[raw_data['job_id'] == 'SA_MAN']['salary'],\n",
    "    raw_data[raw_data['job_id'] == 'IT_PROG']['salary'],\n",
    "    raw_data[raw_data['job_id'] == 'FI_ACCOUNT']['salary'],\n",
    "    raw_data[raw_data['job_id'] == 'PU_CLERK']['salary'],\n",
    "    raw_data[raw_data['job_id'] == 'ST_MAN']['salary'],\n",
    "    raw_data[raw_data['job_id'] == 'AD_VP']['salary'],\n",
    "    raw_data[raw_data['job_id'] == 'AD_ASST']['salary'],\n",
    "    raw_data[raw_data['job_id'] == 'MK_REP']['salary'],\n",
    "    raw_data[raw_data['job_id'] == 'AC_MGR']['salary'],\n",
    "    raw_data[raw_data['job_id'] == 'PR_REP']['salary'],\n",
    "    raw_data[raw_data['job_id'] == 'HR_REP']['salary'],\n",
    "    raw_data[raw_data['job_id'] == 'AD_PRES']['salary'],\n",
    "    raw_data[raw_data['job_id'] == 'MK_MAN']['salary'],\n",
    "    raw_data[raw_data['job_id'] == 'PU_MAN']['salary'],\n",
    "    raw_data[raw_data['job_id'] == 'FI_MGR']['salary'],\n",
    "    raw_data[raw_data['job_id'] == 'AC_ACCOUNT']['salary']\n",
    ")\n",
    "\n",
    "print('V-Statistic', stat)\n",
    "print('P-Value', pval)\n"
   ]
  },
  {
   "cell_type": "markdown",
   "metadata": {},
   "source": [
    "**Conclusion:** P-Value lebih rendah dari acuan tingkat signifikansi yang digunakan (0.05), yang berarti kita memiliki cukup bukti untuk menolak H0. Jadi, terdapat perbedaan nilai median gaji pada setiap jabatan yang ada.  \n",
    "Hal ini juga dapat kita cek berdasarkan tabel dibawah"
   ]
  },
  {
   "cell_type": "code",
   "execution_count": 129,
   "metadata": {},
   "outputs": [
    {
     "data": {
      "text/html": [
       "<style type=\"text/css\">\n",
       "</style>\n",
       "<table id=\"T_84285_\">\n",
       "  <thead>\n",
       "    <tr>\n",
       "      <th class=\"col_heading level0 col0\" >job_id</th>\n",
       "      <th class=\"col_heading level0 col1\" >median salary</th>\n",
       "    </tr>\n",
       "  </thead>\n",
       "  <tbody>\n",
       "    <tr>\n",
       "      <td id=\"T_84285_row0_col0\" class=\"data row0 col0\" >AC_ACCOUNT</td>\n",
       "      <td id=\"T_84285_row0_col1\" class=\"data row0 col1\" >8300.000000</td>\n",
       "    </tr>\n",
       "    <tr>\n",
       "      <td id=\"T_84285_row1_col0\" class=\"data row1 col0\" >AC_MGR</td>\n",
       "      <td id=\"T_84285_row1_col1\" class=\"data row1 col1\" >12000.000000</td>\n",
       "    </tr>\n",
       "    <tr>\n",
       "      <td id=\"T_84285_row2_col0\" class=\"data row2 col0\" >AD_ASST</td>\n",
       "      <td id=\"T_84285_row2_col1\" class=\"data row2 col1\" >4400.000000</td>\n",
       "    </tr>\n",
       "    <tr>\n",
       "      <td id=\"T_84285_row3_col0\" class=\"data row3 col0\" >AD_PRES</td>\n",
       "      <td id=\"T_84285_row3_col1\" class=\"data row3 col1\" >24000.000000</td>\n",
       "    </tr>\n",
       "    <tr>\n",
       "      <td id=\"T_84285_row4_col0\" class=\"data row4 col0\" >AD_VP</td>\n",
       "      <td id=\"T_84285_row4_col1\" class=\"data row4 col1\" >17000.000000</td>\n",
       "    </tr>\n",
       "    <tr>\n",
       "      <td id=\"T_84285_row5_col0\" class=\"data row5 col0\" >FI_ACCOUNT</td>\n",
       "      <td id=\"T_84285_row5_col1\" class=\"data row5 col1\" >7800.000000</td>\n",
       "    </tr>\n",
       "    <tr>\n",
       "      <td id=\"T_84285_row6_col0\" class=\"data row6 col0\" >FI_MGR</td>\n",
       "      <td id=\"T_84285_row6_col1\" class=\"data row6 col1\" >12000.000000</td>\n",
       "    </tr>\n",
       "    <tr>\n",
       "      <td id=\"T_84285_row7_col0\" class=\"data row7 col0\" >HR_REP</td>\n",
       "      <td id=\"T_84285_row7_col1\" class=\"data row7 col1\" >6500.000000</td>\n",
       "    </tr>\n",
       "    <tr>\n",
       "      <td id=\"T_84285_row8_col0\" class=\"data row8 col0\" >IT_PROG</td>\n",
       "      <td id=\"T_84285_row8_col1\" class=\"data row8 col1\" >4800.000000</td>\n",
       "    </tr>\n",
       "    <tr>\n",
       "      <td id=\"T_84285_row9_col0\" class=\"data row9 col0\" >MK_MAN</td>\n",
       "      <td id=\"T_84285_row9_col1\" class=\"data row9 col1\" >13000.000000</td>\n",
       "    </tr>\n",
       "    <tr>\n",
       "      <td id=\"T_84285_row10_col0\" class=\"data row10 col0\" >MK_REP</td>\n",
       "      <td id=\"T_84285_row10_col1\" class=\"data row10 col1\" >6000.000000</td>\n",
       "    </tr>\n",
       "    <tr>\n",
       "      <td id=\"T_84285_row11_col0\" class=\"data row11 col0\" >PR_REP</td>\n",
       "      <td id=\"T_84285_row11_col1\" class=\"data row11 col1\" >10000.000000</td>\n",
       "    </tr>\n",
       "    <tr>\n",
       "      <td id=\"T_84285_row12_col0\" class=\"data row12 col0\" >PU_CLERK</td>\n",
       "      <td id=\"T_84285_row12_col1\" class=\"data row12 col1\" >2800.000000</td>\n",
       "    </tr>\n",
       "    <tr>\n",
       "      <td id=\"T_84285_row13_col0\" class=\"data row13 col0\" >PU_MAN</td>\n",
       "      <td id=\"T_84285_row13_col1\" class=\"data row13 col1\" >11000.000000</td>\n",
       "    </tr>\n",
       "    <tr>\n",
       "      <td id=\"T_84285_row14_col0\" class=\"data row14 col0\" >SA_MAN</td>\n",
       "      <td id=\"T_84285_row14_col1\" class=\"data row14 col1\" >12000.000000</td>\n",
       "    </tr>\n",
       "    <tr>\n",
       "      <td id=\"T_84285_row15_col0\" class=\"data row15 col0\" >SA_REP</td>\n",
       "      <td id=\"T_84285_row15_col1\" class=\"data row15 col1\" >8400.000000</td>\n",
       "    </tr>\n",
       "    <tr>\n",
       "      <td id=\"T_84285_row16_col0\" class=\"data row16 col0\" >SH_CLERK</td>\n",
       "      <td id=\"T_84285_row16_col1\" class=\"data row16 col1\" >3100.000000</td>\n",
       "    </tr>\n",
       "    <tr>\n",
       "      <td id=\"T_84285_row17_col0\" class=\"data row17 col0\" >ST_CLERK</td>\n",
       "      <td id=\"T_84285_row17_col1\" class=\"data row17 col1\" >2700.000000</td>\n",
       "    </tr>\n",
       "    <tr>\n",
       "      <td id=\"T_84285_row18_col0\" class=\"data row18 col0\" >ST_MAN</td>\n",
       "      <td id=\"T_84285_row18_col1\" class=\"data row18 col1\" >7900.000000</td>\n",
       "    </tr>\n",
       "  </tbody>\n",
       "</table>\n"
      ],
      "text/plain": [
       "<pandas.io.formats.style.Styler at 0x2a1f643a1c0>"
      ]
     },
     "execution_count": 129,
     "metadata": {},
     "output_type": "execute_result"
    }
   ],
   "source": [
    "raw_data.groupby(['job_id']).median()['salary'].reset_index().rename(columns={'salary':'median salary'}).style.hide_index()"
   ]
  },
  {
   "cell_type": "markdown",
   "metadata": {},
   "source": [
    "## Perbandingan Median Besaran Gaji di Setiap Cabang Berdasarkan Wilayah\n",
    "\n",
    "**Hypothesis:**  \n",
    "- **H0:** Median gaji karyawan di cabang Amerika = Median gaji karyawan di cabang Eropa  \n",
    "- **Ha:** Median gaji karyawan di cabang Amerika < Median gaji karyawan di cabang Eropa"
   ]
  },
  {
   "cell_type": "code",
   "execution_count": 117,
   "metadata": {},
   "outputs": [
    {
     "name": "stdout",
     "output_type": "stream",
     "text": [
      "U-Statistic 449.5\n",
      "P-Value 3.909530744179159e-09\n"
     ]
    }
   ],
   "source": [
    "from scipy.stats import mannwhitneyu\n",
    "\n",
    "stat, pval = mannwhitneyu(\n",
    "    raw_data[raw_data['region_name'] == 'Americas\\r']['salary'],\n",
    "    raw_data[raw_data['region_name'] == 'Europe\\r']['salary'],\n",
    "    alternative = 'less' # Gaji di Amerika lebih tinggi dari di Eropa\n",
    ") \n",
    "\n",
    "print('U-Statistic', stat)\n",
    "print('P-Value', pval)"
   ]
  },
  {
   "cell_type": "markdown",
   "metadata": {},
   "source": [
    "**Conclusion:** P-Value lebih tinggi dari acuan tingkat siginifikansi yang digunakan (0.05), berarti kita memiliki cukup bukti untuk menolak H0, atau kita terima Ha, jadi nilai median gaji karyawan di Amerika lebih rendah dengan nilai median gaji karyawan di Eropa. Hal ini juga dapat kita lihat pada tabel dibawah"
   ]
  },
  {
   "cell_type": "code",
   "execution_count": 128,
   "metadata": {},
   "outputs": [
    {
     "data": {
      "text/html": [
       "<style type=\"text/css\">\n",
       "</style>\n",
       "<table id=\"T_95dac_\">\n",
       "  <thead>\n",
       "    <tr>\n",
       "      <th class=\"col_heading level0 col0\" >region_name</th>\n",
       "      <th class=\"col_heading level0 col1\" >avg salary</th>\n",
       "    </tr>\n",
       "  </thead>\n",
       "  <tbody>\n",
       "    <tr>\n",
       "      <td id=\"T_95dac_row0_col0\" class=\"data row0 col0\" >Americas\r</td>\n",
       "      <td id=\"T_95dac_row0_col1\" class=\"data row0 col1\" >3350.000000</td>\n",
       "    </tr>\n",
       "    <tr>\n",
       "      <td id=\"T_95dac_row1_col0\" class=\"data row1 col0\" >Europe\r</td>\n",
       "      <td id=\"T_95dac_row1_col1\" class=\"data row1 col1\" >8700.000000</td>\n",
       "    </tr>\n",
       "  </tbody>\n",
       "</table>\n"
      ],
      "text/plain": [
       "<pandas.io.formats.style.Styler at 0x2a1f54d1820>"
      ]
     },
     "execution_count": 128,
     "metadata": {},
     "output_type": "execute_result"
    }
   ],
   "source": [
    "raw_data.groupby(['region_name']).median()['salary'].reset_index().rename(columns={'salary':'avg salary'}).style.hide_index()"
   ]
  }
 ],
 "metadata": {
  "colab": {
   "name": "Project2.ipynb",
   "provenance": []
  },
  "kernelspec": {
   "display_name": "Python 3 (ipykernel)",
   "language": "python",
   "name": "python3"
  },
  "language_info": {
   "codemirror_mode": {
    "name": "ipython",
    "version": 3
   },
   "file_extension": ".py",
   "mimetype": "text/x-python",
   "name": "python",
   "nbconvert_exporter": "python",
   "pygments_lexer": "ipython3",
   "version": "3.9.7"
  }
 },
 "nbformat": 4,
 "nbformat_minor": 1
}
